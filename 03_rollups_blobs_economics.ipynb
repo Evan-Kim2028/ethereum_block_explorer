{
 "cells": [
  {
   "cell_type": "markdown",
   "metadata": {},
   "source": [
    "# rollups_blobs_economics\n",
    "\n",
    "> This notebook explores the economics of rollups and blobs from cryo transactions and blocks dataset."
   ]
  },
  {
   "cell_type": "code",
   "execution_count": 1,
   "metadata": {},
   "outputs": [
    {
     "data": {
      "text/html": [
       "\n",
       "                <script type=\"application/javascript\" id=\"jupyter_black\">\n",
       "                (function() {\n",
       "                    if (window.IPython === undefined) {\n",
       "                        return\n",
       "                    }\n",
       "                    var msg = \"WARNING: it looks like you might have loaded \" +\n",
       "                        \"jupyter_black in a non-lab notebook with \" +\n",
       "                        \"`is_lab=True`. Please double check, and if \" +\n",
       "                        \"loading with `%load_ext` please review the README!\"\n",
       "                    console.log(msg)\n",
       "                    alert(msg)\n",
       "                })()\n",
       "                </script>\n",
       "                "
      ],
      "text/plain": [
       "<IPython.core.display.HTML object>"
      ]
     },
     "metadata": {},
     "output_type": "display_data"
    }
   ],
   "source": [
    "from ethereum_block_explorer.core import get_txs_blocks_mempool\n",
    "\n",
    "import polars as pl"
   ]
  },
  {
   "cell_type": "code",
   "execution_count": 2,
   "metadata": {},
   "outputs": [],
   "source": [
    "txs = pl.scan_parquet(\"transactions/*.parquet\")\n",
    "blocks = pl.scan_parquet(\"blocks/*.parquet\")\n",
    "mempool = pl.scan_parquet(\"data/transaction-data/*.parquet\")"
   ]
  },
  {
   "cell_type": "code",
   "execution_count": 3,
   "metadata": {},
   "outputs": [],
   "source": [
    "txs_blocks_mempool = get_txs_blocks_mempool(txs, blocks, mempool)"
   ]
  },
  {
   "cell_type": "markdown",
   "metadata": {},
   "source": [
    "Currently I am just sorting sequencer addresses by the `from_address`. More robust would probably to match it to the relevant `to_address`. I'm unsure which way is the most accurate right now."
   ]
  },
  {
   "cell_type": "code",
   "execution_count": 22,
   "metadata": {},
   "outputs": [],
   "source": [
    "# https://dune.com/queries/3302607\n",
    "sequencers_l2: dict[str] = {\n",
    "    \"sequencer_addresses\": [\n",
    "        \"0xc1b634853cb333d3ad8663715b08f41a3aec47cc\",\n",
    "        \"0x6887246668a3b87f54deb3b94ba47a6f63f32985\",\n",
    "        \"0xd19d4b5d358258f05d7b411e21a1460d11b0876f\",\n",
    "        \"0x6667961f5e9c98a76a48767522150889703ed77d\",\n",
    "        \"0xcf2898225ed05be911d3709d9417e86e0b4cfc8f\",\n",
    "        \"0x148ee7daf16574cd020afa34cc658f8f3fbd2800\",\n",
    "        \"0x2c169dfe5fbbba12957bdd0ba47d9cedbfe260ca7\",\n",
    "        \"0x5050f69a9786f081509234f1a7f4684b5e5b76c9\",\n",
    "    ],\n",
    "    \"sequencer_names\": [\n",
    "        \"arbitrum\",\n",
    "        \"optimism\",\n",
    "        \"linea\",\n",
    "        \"mantle\",\n",
    "        \"scroll\",\n",
    "        \"polygon_zkevm\",\n",
    "        \"starknet\",\n",
    "        \"base\",\n",
    "    ],\n",
    "}\n",
    "\n",
    "sequencer_labels = pl.from_dict(sequencers_l2)"
   ]
  },
  {
   "cell_type": "code",
   "execution_count": 23,
   "metadata": {},
   "outputs": [
    {
     "data": {
      "text/html": [
       "<div><style>\n",
       ".dataframe > thead > tr,\n",
       ".dataframe > tbody > tr {\n",
       "  text-align: right;\n",
       "  white-space: pre-wrap;\n",
       "}\n",
       "</style>\n",
       "<small>shape: (8, 2)</small><table border=\"1\" class=\"dataframe\"><thead><tr><th>sequencer_addresses</th><th>sequencer_names</th></tr><tr><td>str</td><td>str</td></tr></thead><tbody><tr><td>&quot;0xc1b634853cb333d3ad8663715b08f41a3aec47cc&quot;</td><td>&quot;arbitrum&quot;</td></tr><tr><td>&quot;0x6887246668a3b87f54deb3b94ba47a6f63f32985&quot;</td><td>&quot;optimism&quot;</td></tr><tr><td>&quot;0xd19d4b5d358258f05d7b411e21a1460d11b0876f&quot;</td><td>&quot;linea&quot;</td></tr><tr><td>&quot;0x6667961f5e9c98a76a48767522150889703ed77d&quot;</td><td>&quot;mantle&quot;</td></tr><tr><td>&quot;0xcf2898225ed05be911d3709d9417e86e0b4cfc8f&quot;</td><td>&quot;scroll&quot;</td></tr><tr><td>&quot;0x148ee7daf16574cd020afa34cc658f8f3fbd2800&quot;</td><td>&quot;polygon_zkevm&quot;</td></tr><tr><td>&quot;0x2c169dfe5fbbba12957bdd0ba47d9cedbfe260ca7&quot;</td><td>&quot;starknet&quot;</td></tr><tr><td>&quot;0x5050f69a9786f081509234f1a7f4684b5e5b76c9&quot;</td><td>&quot;base&quot;</td></tr></tbody></table></div>"
      ],
      "text/plain": [
       "shape: (8, 2)\n",
       "┌─────────────────────────────────────────────┬─────────────────┐\n",
       "│ sequencer_addresses                         ┆ sequencer_names │\n",
       "│ ---                                         ┆ ---             │\n",
       "│ str                                         ┆ str             │\n",
       "╞═════════════════════════════════════════════╪═════════════════╡\n",
       "│ 0xc1b634853cb333d3ad8663715b08f41a3aec47cc  ┆ arbitrum        │\n",
       "│ 0x6887246668a3b87f54deb3b94ba47a6f63f32985  ┆ optimism        │\n",
       "│ 0xd19d4b5d358258f05d7b411e21a1460d11b0876f  ┆ linea           │\n",
       "│ 0x6667961f5e9c98a76a48767522150889703ed77d  ┆ mantle          │\n",
       "│ 0xcf2898225ed05be911d3709d9417e86e0b4cfc8f  ┆ scroll          │\n",
       "│ 0x148ee7daf16574cd020afa34cc658f8f3fbd2800  ┆ polygon_zkevm   │\n",
       "│ 0x2c169dfe5fbbba12957bdd0ba47d9cedbfe260ca7 ┆ starknet        │\n",
       "│ 0x5050f69a9786f081509234f1a7f4684b5e5b76c9  ┆ base            │\n",
       "└─────────────────────────────────────────────┴─────────────────┘"
      ]
     },
     "execution_count": 23,
     "metadata": {},
     "output_type": "execute_result"
    }
   ],
   "source": [
    "sequencer_labels"
   ]
  },
  {
   "cell_type": "code",
   "execution_count": 24,
   "metadata": {},
   "outputs": [],
   "source": [
    "sequencer_txs_blocks = (\n",
    "    txs_blocks_mempool.filter(\n",
    "        pl.col(\"from_address\").is_in(sequencer_labels[\"sequencer_addresses\"])\n",
    "    )\n",
    "    .collect(streaming=True)\n",
    "    .join(sequencer_labels, left_on=\"from_address\", right_on=\"sequencer_addresses\")\n",
    ")"
   ]
  },
  {
   "cell_type": "code",
   "execution_count": 29,
   "metadata": {},
   "outputs": [
    {
     "data": {
      "text/html": [
       "<div><style>\n",
       ".dataframe > thead > tr,\n",
       ".dataframe > tbody > tr {\n",
       "  text-align: right;\n",
       "  white-space: pre-wrap;\n",
       "}\n",
       "</style>\n",
       "<small>shape: (6, 4)</small><table border=\"1\" class=\"dataframe\"><thead><tr><th>from_address</th><th>sequencer_names</th><th>count</th><th>tx_gas_cost</th></tr><tr><td>str</td><td>str</td><td>u32</td><td>f64</td></tr></thead><tbody><tr><td>&quot;0x6667961f5e9c98a76a48767522150889703ed77d&quot;</td><td>&quot;mantle&quot;</td><td>455</td><td>0.2770754713651314</td></tr><tr><td>&quot;0xc1b634853cb333d3ad8663715b08f41a3aec47cc&quot;</td><td>&quot;arbitrum&quot;</td><td>15981</td><td>0.11013049692263244</td></tr><tr><td>&quot;0x6887246668a3b87f54deb3b94ba47a6f63f32985&quot;</td><td>&quot;optimism&quot;</td><td>4559</td><td>0.08331374485589356</td></tr><tr><td>&quot;0xcf2898225ed05be911d3709d9417e86e0b4cfc8f&quot;</td><td>&quot;scroll&quot;</td><td>5327</td><td>0.06420822292767576</td></tr><tr><td>&quot;0x148ee7daf16574cd020afa34cc658f8f3fbd2800&quot;</td><td>&quot;polygon_zkevm&quot;</td><td>1073</td><td>0.04114850410694565</td></tr><tr><td>&quot;0x5050f69a9786f081509234f1a7f4684b5e5b76c9&quot;</td><td>&quot;base&quot;</td><td>10350</td><td>0.023382982340113437</td></tr></tbody></table></div>"
      ],
      "text/plain": [
       "shape: (6, 4)\n",
       "┌────────────────────────────────────────────┬─────────────────┬───────┬──────────────────────┐\n",
       "│ from_address                               ┆ sequencer_names ┆ count ┆ tx_gas_cost          │\n",
       "│ ---                                        ┆ ---             ┆ ---   ┆ ---                  │\n",
       "│ str                                        ┆ str             ┆ u32   ┆ f64                  │\n",
       "╞════════════════════════════════════════════╪═════════════════╪═══════╪══════════════════════╡\n",
       "│ 0x6667961f5e9c98a76a48767522150889703ed77d ┆ mantle          ┆ 455   ┆ 0.2770754713651314   │\n",
       "│ 0xc1b634853cb333d3ad8663715b08f41a3aec47cc ┆ arbitrum        ┆ 15981 ┆ 0.11013049692263244  │\n",
       "│ 0x6887246668a3b87f54deb3b94ba47a6f63f32985 ┆ optimism        ┆ 4559  ┆ 0.08331374485589356  │\n",
       "│ 0xcf2898225ed05be911d3709d9417e86e0b4cfc8f ┆ scroll          ┆ 5327  ┆ 0.06420822292767576  │\n",
       "│ 0x148ee7daf16574cd020afa34cc658f8f3fbd2800 ┆ polygon_zkevm   ┆ 1073  ┆ 0.04114850410694565  │\n",
       "│ 0x5050f69a9786f081509234f1a7f4684b5e5b76c9 ┆ base            ┆ 10350 ┆ 0.023382982340113437 │\n",
       "└────────────────────────────────────────────┴─────────────────┴───────┴──────────────────────┘"
      ]
     },
     "execution_count": 29,
     "metadata": {},
     "output_type": "execute_result"
    }
   ],
   "source": [
    "sequencer_txs_blocks.group_by(\n",
    "    \"from_address\",\n",
    "    \"sequencer_names\",\n",
    ").agg(\n",
    "    pl.count(), pl.col(\"tx_gas_cost\").mean()\n",
    ").sort(by=\"tx_gas_cost\", descending=True)"
   ]
  },
  {
   "cell_type": "code",
   "execution_count": null,
   "metadata": {},
   "outputs": [],
   "source": []
  }
 ],
 "metadata": {
  "kernelspec": {
   "display_name": ".venv",
   "language": "python",
   "name": "python3"
  },
  "language_info": {
   "codemirror_mode": {
    "name": "ipython",
    "version": 3
   },
   "file_extension": ".py",
   "mimetype": "text/x-python",
   "name": "python",
   "nbconvert_exporter": "python",
   "pygments_lexer": "ipython3",
   "version": "3.10.12"
  }
 },
 "nbformat": 4,
 "nbformat_minor": 2
}
