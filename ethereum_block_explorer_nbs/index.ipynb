{
 "cells": [
  {
   "cell_type": "code",
   "execution_count": null,
   "metadata": {},
   "outputs": [],
   "source": [
    "#| hide\n",
    "from {{lib_path}}.core import *"
   ]
  },
  {
   "cell_type": "markdown",
   "metadata": {},
   "source": [
    "# ethereum_block_explorer\n",
    "\n",
    "> useful polars api logic to explore ethereum block data"
   ]
  },
  {
   "cell_type": "markdown",
   "metadata": {},
   "source": [
    "ethereum_block_explorer is a personal library made to explore ethereum block data using `python-cryo` and `polars`. The repository uses `nbdev` for organization."
   ]
  },
  {
   "cell_type": "markdown",
   "metadata": {},
   "source": [
    "## Install"
   ]
  },
  {
   "cell_type": "markdown",
   "metadata": {},
   "source": [
    "Make a virtual environment ```python -m venv .venv``` and then use ```pip install -e .```"
   ]
  },
  {
   "cell_type": "markdown",
   "metadata": {},
   "source": [
    "## rollups_blobs_economics\n",
    "(WIP 1/7/24) - Working on analyzing the effects of EIP-4844 and how the blob market demand will look like based on historical analysis"
   ]
  },
  {
   "cell_type": "markdown",
   "metadata": {},
   "source": [
    "## Cryo"
   ]
  },
  {
   "cell_type": "markdown",
   "metadata": {},
   "source": [
    "via the CLI - ```cryo blocks_and_transactions -b 18753440:latest --rpc \"https://eth.merkle.io\" --subdirs datatype --hex --exclude-columns input```"
   ]
  },
  {
   "cell_type": "markdown",
   "metadata": {},
   "source": [
    "To ensure the latest version of cryo in python, build the .whl file with maturin and install that instead of relying on the pip install command"
   ]
  },
  {
   "cell_type": "markdown",
   "metadata": {},
   "source": [
    "## Mempool Dumpster"
   ]
  },
  {
   "cell_type": "markdown",
   "metadata": {},
   "source": [
    "```mempool-dumpster get 2023-12-15```"
   ]
  },
  {
   "cell_type": "code",
   "execution_count": null,
   "metadata": {},
   "outputs": [],
   "source": []
  }
 ],
 "metadata": {
  "kernelspec": {
   "display_name": "python3",
   "language": "python",
   "name": "python3"
  }
 },
 "nbformat": 4,
 "nbformat_minor": 4
}
