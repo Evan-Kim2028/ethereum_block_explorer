{
 "cells": [
  {
   "cell_type": "markdown",
   "metadata": {},
   "source": [
    "# core\n",
    "\n",
    "> Polars API logic is included in `core` for commonly reused data preprocess and transformations from bulk datasets obtained using Cryo"
   ]
  },
  {
   "cell_type": "code",
   "execution_count": null,
   "metadata": {},
   "outputs": [],
   "source": [
    "#| default_exp core"
   ]
  },
  {
   "cell_type": "code",
   "execution_count": null,
   "metadata": {},
   "outputs": [],
   "source": [
    "# | export\n",
    "import jupyter_black\n",
    "import polars as pl\n",
    "\n",
    "\n",
    "pl.Config.set_fmt_str_lengths(200)\n",
    "pl.Config.set_fmt_float(\"full\")\n",
    "\n",
    "\n",
    "jupyter_black.load()"
   ]
  },
  {
   "cell_type": "code",
   "execution_count": null,
   "metadata": {},
   "outputs": [],
   "source": [
    "# | export\n",
    "def get_txs_blocks_mempool(\n",
    "    txs: pl.LazyFrame, blocks: pl.LazyFrame, mempool: pl.LazyFrame | None = None\n",
    ") -> pl.LazyFrame:\n",
    "    \"\"\"\n",
    "    Combines transaction, block, and optionally flashbots mempool data into a single LazyFrame.\n",
    "\n",
    "    Uses pattern matching to handle the optional mempool data.\n",
    "    If mempool data is provided, it is joined with the transactions and blocks data.\n",
    "    If not, only transactions and blocks are joined.\n",
    "\n",
    "    Parameters:\n",
    "    - txs (pl.LazyFrame): LazyFrame containing transaction data.\n",
    "    - blocks (pl.LazyFrame): LazyFrame containing block data.\n",
    "    - address (str): Address used to filter the data (not currently used).\n",
    "    - mempool (pl.LazyFrame, optional): LazyFrame containing mempool data. Default is None.\n",
    "\n",
    "    Returns:\n",
    "    - pl.LazyFrame: A unified LazyFrame with enriched transaction data.\n",
    "    \"\"\"\n",
    "    # Use pattern matching to handle the presence or absence of mempool data\n",
    "    match mempool:\n",
    "        case _ if isinstance(mempool, pl.LazyFrame):\n",
    "            # Join transactions with blocks and mempool data if mempool is provided\n",
    "            combined_df = txs.join(\n",
    "                blocks, on=\"block_number\", how=\"left\", suffix=\"_block\"\n",
    "            ).join(\n",
    "                mempool,\n",
    "                right_on=\"hash\",\n",
    "                left_on=\"transaction_hash\",\n",
    "                how=\"left\",\n",
    "                suffix=\"_mempool\",\n",
    "            )\n",
    "\n",
    "        case None:\n",
    "            print('None Type Expected')\n",
    "            # Join only transactions with blocks if mempool is not provided\n",
    "            combined_df = txs.join(\n",
    "                blocks, on=\"block_number\", how=\"left\", suffix=\"_block\"\n",
    "            )\n",
    "\n",
    "    # Common processing steps for both scenarios\n",
    "    return (\n",
    "        combined_df.with_columns(\n",
    "            [\n",
    "                # Calculate the transaction gas cost\n",
    "                (pl.col(\"gas_used\") * pl.col(\"gas_price\") / 10**18).alias(\n",
    "                    \"tx_gas_cost\"\n",
    "                ),\n",
    "                # Convert epoch timestamp to datetime\n",
    "                pl.from_epoch(\"timestamp\").alias(\"block_datetime\"),\n",
    "                # Calculate the max transaction index per block\n",
    "                pl.col(\"transaction_index\")\n",
    "                .max()\n",
    "                .over(pl.col(\"block_number\"))\n",
    "                .name.suffix(\"_max\"),\n",
    "                # Calculate the gas price premium over the base fee per gas\n",
    "                (pl.col(\"gas_price\") / pl.col(\"base_fee_per_gas\")).alias(\n",
    "                    \"block_gas_premium\"\n",
    "                ),\n",
    "            ]\n",
    "        )\n",
    "        .with_columns(\n",
    "            # Calculate the transaction index percentile within its block\n",
    "            (pl.col(\"transaction_index\") / pl.col(\"transaction_index_max\") * 100).alias(\n",
    "                \"blockspace_percentile\"\n",
    "            )\n",
    "        )\n",
    "        .with_columns(\n",
    "            # Round the block space percentile for easier interpretation\n",
    "            (pl.col(\"blockspace_percentile\").round()).alias(\n",
    "                \"rounded_blockspace_percentile\"\n",
    "            )\n",
    "        )\n",
    "        .fill_nan(0)  # Fill NaN values with 0\n",
    "        .unique()  # Ensure all rows are unique\n",
    "    )"
   ]
  },
  {
   "cell_type": "markdown",
   "metadata": {},
   "source": [
    "For example, this will talk briefly about how to use the above functions."
   ]
  },
  {
   "cell_type": "code",
   "execution_count": null,
   "metadata": {},
   "outputs": [],
   "source": []
  }
 ],
 "metadata": {
  "kernelspec": {
   "display_name": "python3",
   "language": "python",
   "name": "python3"
  },
  "language_info": {
   "name": "python",
   "version": "3.10.12"
  }
 },
 "nbformat": 4,
 "nbformat_minor": 4
}
