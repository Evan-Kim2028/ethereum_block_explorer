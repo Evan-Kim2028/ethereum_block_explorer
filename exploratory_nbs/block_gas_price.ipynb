{
 "cells": [
  {
   "cell_type": "code",
   "execution_count": 1,
   "metadata": {},
   "outputs": [
    {
     "data": {
      "text/html": [
       "\n",
       "                <script type=\"application/javascript\" id=\"jupyter_black\">\n",
       "                (function() {\n",
       "                    if (window.IPython === undefined) {\n",
       "                        return\n",
       "                    }\n",
       "                    var msg = \"WARNING: it looks like you might have loaded \" +\n",
       "                        \"jupyter_black in a non-lab notebook with \" +\n",
       "                        \"`is_lab=True`. Please double check, and if \" +\n",
       "                        \"loading with `%load_ext` please review the README!\"\n",
       "                    console.log(msg)\n",
       "                    alert(msg)\n",
       "                })()\n",
       "                </script>\n",
       "                "
      ],
      "text/plain": [
       "<IPython.core.display.HTML object>"
      ]
     },
     "metadata": {},
     "output_type": "display_data"
    },
    {
     "data": {
      "application/javascript": "(function(root) {\n  function now() {\n    return new Date();\n  }\n\n  var force = true;\n  var py_version = '3.2.0'.replace('rc', '-rc.').replace('.dev', '-dev.');\n  var is_dev = py_version.indexOf(\"+\") !== -1 || py_version.indexOf(\"-\") !== -1;\n  var reloading = false;\n  var Bokeh = root.Bokeh;\n  var bokeh_loaded = Bokeh != null && (Bokeh.version === py_version || (Bokeh.versions !== undefined && Bokeh.versions.has(py_version)));\n\n  if (typeof (root._bokeh_timeout) === \"undefined\" || force) {\n    root._bokeh_timeout = Date.now() + 5000;\n    root._bokeh_failed_load = false;\n  }\n\n  function run_callbacks() {\n    try {\n      root._bokeh_onload_callbacks.forEach(function(callback) {\n        if (callback != null)\n          callback();\n      });\n    } finally {\n      delete root._bokeh_onload_callbacks;\n    }\n    console.debug(\"Bokeh: all callbacks have finished\");\n  }\n\n  function load_libs(css_urls, js_urls, js_modules, js_exports, callback) {\n    if (css_urls == null) css_urls = [];\n    if (js_urls == null) js_urls = [];\n    if (js_modules == null) js_modules = [];\n    if (js_exports == null) js_exports = {};\n\n    root._bokeh_onload_callbacks.push(callback);\n\n    if (root._bokeh_is_loading > 0) {\n      console.debug(\"Bokeh: BokehJS is being loaded, scheduling callback at\", now());\n      return null;\n    }\n    if (js_urls.length === 0 && js_modules.length === 0 && Object.keys(js_exports).length === 0) {\n      run_callbacks();\n      return null;\n    }\n    if (!reloading) {\n      console.debug(\"Bokeh: BokehJS not loaded, scheduling load and callback at\", now());\n    }\n\n    function on_load() {\n      root._bokeh_is_loading--;\n      if (root._bokeh_is_loading === 0) {\n        console.debug(\"Bokeh: all BokehJS libraries/stylesheets loaded\");\n        run_callbacks()\n      }\n    }\n    window._bokeh_on_load = on_load\n\n    function on_error() {\n      console.error(\"failed to load \" + url);\n    }\n\n    var skip = [];\n    if (window.requirejs) {\n      window.requirejs.config({'packages': {}, 'paths': {'tabulator': 'https://cdn.jsdelivr.net/npm/tabulator-tables@5.5.0/dist/js/tabulator', 'moment': 'https://cdn.jsdelivr.net/npm/luxon/build/global/luxon.min', 'jspanel': 'https://cdn.jsdelivr.net/npm/jspanel4@4.12.0/dist/jspanel', 'jspanel-modal': 'https://cdn.jsdelivr.net/npm/jspanel4@4.12.0/dist/extensions/modal/jspanel.modal', 'jspanel-tooltip': 'https://cdn.jsdelivr.net/npm/jspanel4@4.12.0/dist/extensions/tooltip/jspanel.tooltip', 'jspanel-hint': 'https://cdn.jsdelivr.net/npm/jspanel4@4.12.0/dist/extensions/hint/jspanel.hint', 'jspanel-layout': 'https://cdn.jsdelivr.net/npm/jspanel4@4.12.0/dist/extensions/layout/jspanel.layout', 'jspanel-contextmenu': 'https://cdn.jsdelivr.net/npm/jspanel4@4.12.0/dist/extensions/contextmenu/jspanel.contextmenu', 'jspanel-dock': 'https://cdn.jsdelivr.net/npm/jspanel4@4.12.0/dist/extensions/dock/jspanel.dock', 'gridstack': 'https://cdn.jsdelivr.net/npm/gridstack@7.2.3/dist/gridstack-all', 'notyf': 'https://cdn.jsdelivr.net/npm/notyf@3/notyf.min'}, 'shim': {'jspanel': {'exports': 'jsPanel'}, 'gridstack': {'exports': 'GridStack'}}});\n      require([\"tabulator\"], function(Tabulator) {\n\twindow.Tabulator = Tabulator\n\ton_load()\n      })\n      require([\"moment\"], function(moment) {\n\twindow.moment = moment\n\ton_load()\n      })\n      require([\"jspanel\"], function(jsPanel) {\n\twindow.jsPanel = jsPanel\n\ton_load()\n      })\n      require([\"jspanel-modal\"], function() {\n\ton_load()\n      })\n      require([\"jspanel-tooltip\"], function() {\n\ton_load()\n      })\n      require([\"jspanel-hint\"], function() {\n\ton_load()\n      })\n      require([\"jspanel-layout\"], function() {\n\ton_load()\n      })\n      require([\"jspanel-contextmenu\"], function() {\n\ton_load()\n      })\n      require([\"jspanel-dock\"], function() {\n\ton_load()\n      })\n      require([\"gridstack\"], function(GridStack) {\n\twindow.GridStack = GridStack\n\ton_load()\n      })\n      require([\"notyf\"], function() {\n\ton_load()\n      })\n      root._bokeh_is_loading = css_urls.length + 11;\n    } else {\n      root._bokeh_is_loading = css_urls.length + js_urls.length + js_modules.length + Object.keys(js_exports).length;\n    }\n\n    var existing_stylesheets = []\n    var links = document.getElementsByTagName('link')\n    for (var i = 0; i < links.length; i++) {\n      var link = links[i]\n      if (link.href != null) {\n\texisting_stylesheets.push(link.href)\n      }\n    }\n    for (var i = 0; i < css_urls.length; i++) {\n      var url = css_urls[i];\n      if (existing_stylesheets.indexOf(url) !== -1) {\n\ton_load()\n\tcontinue;\n      }\n      const element = document.createElement(\"link\");\n      element.onload = on_load;\n      element.onerror = on_error;\n      element.rel = \"stylesheet\";\n      element.type = \"text/css\";\n      element.href = url;\n      console.debug(\"Bokeh: injecting link tag for BokehJS stylesheet: \", url);\n      document.body.appendChild(element);\n    }    if (((window['Tabulator'] !== undefined) && (!(window['Tabulator'] instanceof HTMLElement))) || window.requirejs) {\n      var urls = ['https://cdn.holoviz.org/panel/1.2.0/dist/bundled/datatabulator/tabulator-tables@5.5.0/dist/js/tabulator.js'];\n      for (var i = 0; i < urls.length; i++) {\n        skip.push(urls[i])\n      }\n    }    if (((window['moment'] !== undefined) && (!(window['moment'] instanceof HTMLElement))) || window.requirejs) {\n      var urls = ['https://cdn.holoviz.org/panel/1.2.0/dist/bundled/datatabulator/luxon/build/global/luxon.min.js'];\n      for (var i = 0; i < urls.length; i++) {\n        skip.push(urls[i])\n      }\n    }    if (((window['jsPanel'] !== undefined) && (!(window['jsPanel'] instanceof HTMLElement))) || window.requirejs) {\n      var urls = ['https://cdn.holoviz.org/panel/1.2.0/dist/bundled/floatpanel/jspanel4@4.12.0/dist/jspanel.js', 'https://cdn.holoviz.org/panel/1.2.0/dist/bundled/floatpanel/jspanel4@4.12.0/dist/extensions/modal/jspanel.modal.js', 'https://cdn.holoviz.org/panel/1.2.0/dist/bundled/floatpanel/jspanel4@4.12.0/dist/extensions/tooltip/jspanel.tooltip.js', 'https://cdn.holoviz.org/panel/1.2.0/dist/bundled/floatpanel/jspanel4@4.12.0/dist/extensions/hint/jspanel.hint.js', 'https://cdn.holoviz.org/panel/1.2.0/dist/bundled/floatpanel/jspanel4@4.12.0/dist/extensions/layout/jspanel.layout.js', 'https://cdn.holoviz.org/panel/1.2.0/dist/bundled/floatpanel/jspanel4@4.12.0/dist/extensions/contextmenu/jspanel.contextmenu.js', 'https://cdn.holoviz.org/panel/1.2.0/dist/bundled/floatpanel/jspanel4@4.12.0/dist/extensions/dock/jspanel.dock.js'];\n      for (var i = 0; i < urls.length; i++) {\n        skip.push(urls[i])\n      }\n    }    if (((window['GridStack'] !== undefined) && (!(window['GridStack'] instanceof HTMLElement))) || window.requirejs) {\n      var urls = ['https://cdn.holoviz.org/panel/1.2.0/dist/bundled/gridstack/gridstack@7.2.3/dist/gridstack-all.js'];\n      for (var i = 0; i < urls.length; i++) {\n        skip.push(urls[i])\n      }\n    }    if (((window['Notyf'] !== undefined) && (!(window['Notyf'] instanceof HTMLElement))) || window.requirejs) {\n      var urls = ['https://cdn.holoviz.org/panel/1.2.0/dist/bundled/notificationarea/notyf@3/notyf.min.js'];\n      for (var i = 0; i < urls.length; i++) {\n        skip.push(urls[i])\n      }\n    }    var existing_scripts = []\n    var scripts = document.getElementsByTagName('script')\n    for (var i = 0; i < scripts.length; i++) {\n      var script = scripts[i]\n      if (script.src != null) {\n\texisting_scripts.push(script.src)\n      }\n    }\n    for (var i = 0; i < js_urls.length; i++) {\n      var url = js_urls[i];\n      if (skip.indexOf(url) !== -1 || existing_scripts.indexOf(url) !== -1) {\n\tif (!window.requirejs) {\n\t  on_load();\n\t}\n\tcontinue;\n      }\n      var element = document.createElement('script');\n      element.onload = on_load;\n      element.onerror = on_error;\n      element.async = false;\n      element.src = url;\n      console.debug(\"Bokeh: injecting script tag for BokehJS library: \", url);\n      document.head.appendChild(element);\n    }\n    for (var i = 0; i < js_modules.length; i++) {\n      var url = js_modules[i];\n      if (skip.indexOf(url) !== -1 || existing_scripts.indexOf(url) !== -1) {\n\tif (!window.requirejs) {\n\t  on_load();\n\t}\n\tcontinue;\n      }\n      var element = document.createElement('script');\n      element.onload = on_load;\n      element.onerror = on_error;\n      element.async = false;\n      element.src = url;\n      element.type = \"module\";\n      console.debug(\"Bokeh: injecting script tag for BokehJS library: \", url);\n      document.head.appendChild(element);\n    }\n    for (const name in js_exports) {\n      var url = js_exports[name];\n      if (skip.indexOf(url) >= 0 || root[name] != null) {\n\tif (!window.requirejs) {\n\t  on_load();\n\t}\n\tcontinue;\n      }\n      var element = document.createElement('script');\n      element.onerror = on_error;\n      element.async = false;\n      element.type = \"module\";\n      console.debug(\"Bokeh: injecting script tag for BokehJS library: \", url);\n      element.textContent = `\n      import ${name} from \"${url}\"\n      window.${name} = ${name}\n      window._bokeh_on_load()\n      `\n      document.head.appendChild(element);\n    }\n    if (!js_urls.length && !js_modules.length) {\n      on_load()\n    }\n  };\n\n  function inject_raw_css(css) {\n    const element = document.createElement(\"style\");\n    element.appendChild(document.createTextNode(css));\n    document.body.appendChild(element);\n  }\n\n  var js_urls = [\"https://cdn.holoviz.org/panel/1.2.0/dist/bundled/datatabulator/tabulator-tables@5.5.0/dist/js/tabulator.js\", \"https://cdn.holoviz.org/panel/1.2.0/dist/bundled/datatabulator/luxon/build/global/luxon.min.js\", \"https://cdn.bokeh.org/bokeh/release/bokeh-3.2.0.min.js\", \"https://cdn.bokeh.org/bokeh/release/bokeh-gl-3.2.0.min.js\", \"https://cdn.bokeh.org/bokeh/release/bokeh-widgets-3.2.0.min.js\", \"https://cdn.bokeh.org/bokeh/release/bokeh-tables-3.2.0.min.js\", \"https://cdn.holoviz.org/panel/1.2.0/dist/panel.min.js\"];\n  var js_modules = [];\n  var js_exports = {};\n  var css_urls = [\"https://cdn.holoviz.org/panel/1.2.0/dist/bundled/datatabulator/tabulator-tables@5.5.0/dist/css/tabulator_simple.min.css\"];\n  var inline_js = [    function(Bokeh) {\n      inject_raw_css(\".tabulator{position:relative;border:1px solid #999;font-size:14px;text-align:left;overflow:hidden;-webkit-transform:translateZ(0);-moz-transform:translateZ(0);-ms-transform:translateZ(0);-o-transform:translateZ(0);transform:translateZ(0)}.tabulator[tabulator-layout=fitDataFill] .tabulator-tableholder .tabulator-table{min-width:100%}.tabulator[tabulator-layout=fitDataTable]{display:inline-block}.tabulator.tabulator-block-select{user-select:none}.tabulator .tabulator-header{position:relative;box-sizing:border-box;width:100%;border-bottom:1px solid #999;background-color:#fff;color:#555;font-weight:700;white-space:nowrap;overflow:hidden;-moz-user-select:none;-khtml-user-select:none;-webkit-user-select:none;-o-user-select:none}.tabulator .tabulator-header.tabulator-header-hidden{display:none}.tabulator .tabulator-header .tabulator-header-contents{position:relative;overflow:hidden}.tabulator .tabulator-header .tabulator-header-contents .tabulator-headers{display:inline-block}.tabulator .tabulator-header .tabulator-col{display:inline-flex;position:relative;box-sizing:border-box;flex-direction:column;justify-content:flex-start;border-right:1px solid #ddd;background:#fff;text-align:left;vertical-align:bottom;overflow:hidden}.tabulator .tabulator-header .tabulator-col.tabulator-moving{position:absolute;border:1px solid #999;background:#e6e6e6;pointer-events:none}.tabulator .tabulator-header .tabulator-col .tabulator-col-content{box-sizing:border-box;position:relative;padding:4px}.tabulator .tabulator-header .tabulator-col .tabulator-col-content .tabulator-header-popup-button{padding:0 8px}.tabulator .tabulator-header .tabulator-col .tabulator-col-content .tabulator-header-popup-button:hover{cursor:pointer;opacity:.6}.tabulator .tabulator-header .tabulator-col .tabulator-col-content .tabulator-col-title-holder{position:relative}.tabulator .tabulator-header .tabulator-col .tabulator-col-content .tabulator-col-title{box-sizing:border-box;width:100%;white-space:nowrap;overflow:hidden;text-overflow:ellipsis;vertical-align:bottom}.tabulator .tabulator-header .tabulator-col .tabulator-col-content .tabulator-col-title.tabulator-col-title-wrap{white-space:normal;text-overflow:clip}.tabulator .tabulator-header .tabulator-col .tabulator-col-content .tabulator-col-title .tabulator-title-editor{box-sizing:border-box;width:100%;border:1px solid #999;padding:1px;background:#fff}.tabulator .tabulator-header .tabulator-col .tabulator-col-content .tabulator-col-title .tabulator-header-popup-button+.tabulator-title-editor{width:calc(100% - 22px)}.tabulator .tabulator-header .tabulator-col .tabulator-col-content .tabulator-col-sorter{display:flex;align-items:center;position:absolute;top:0;bottom:0;right:4px}.tabulator .tabulator-header .tabulator-col .tabulator-col-content .tabulator-col-sorter .tabulator-arrow{width:0;height:0;border-left:6px solid transparent;border-right:6px solid transparent;border-bottom:6px solid #bbb}.tabulator .tabulator-header .tabulator-col.tabulator-col-group .tabulator-col-group-cols{position:relative;display:flex;border-top:1px solid #ddd;overflow:hidden;margin-right:-1px}.tabulator .tabulator-header .tabulator-col .tabulator-header-filter{position:relative;box-sizing:border-box;margin-top:2px;width:100%;text-align:center}.tabulator .tabulator-header .tabulator-col .tabulator-header-filter textarea{height:auto!important}.tabulator .tabulator-header .tabulator-col .tabulator-header-filter svg{margin-top:3px}.tabulator .tabulator-header .tabulator-col .tabulator-header-filter input::-ms-clear{width:0;height:0}.tabulator .tabulator-header .tabulator-col.tabulator-sortable .tabulator-col-title{padding-right:25px}@media (hover:hover) and (pointer:fine){.tabulator .tabulator-header .tabulator-col.tabulator-sortable.tabulator-col-sorter-element:hover{cursor:pointer;background-color:#e6e6e6}}.tabulator .tabulator-header .tabulator-col.tabulator-sortable[aria-sort=none] .tabulator-col-content .tabulator-col-sorter{color:#bbb}@media (hover:hover) and (pointer:fine){.tabulator .tabulator-header .tabulator-col.tabulator-sortable[aria-sort=none] .tabulator-col-content .tabulator-col-sorter.tabulator-col-sorter-element .tabulator-arrow:hover{cursor:pointer;border-bottom:6px solid #555}}.tabulator .tabulator-header .tabulator-col.tabulator-sortable[aria-sort=none] .tabulator-col-content .tabulator-col-sorter .tabulator-arrow{border-top:none;border-bottom:6px solid #bbb}.tabulator .tabulator-header .tabulator-col.tabulator-sortable[aria-sort=ascending] .tabulator-col-content .tabulator-col-sorter{color:#666}@media (hover:hover) and (pointer:fine){.tabulator .tabulator-header .tabulator-col.tabulator-sortable[aria-sort=ascending] .tabulator-col-content .tabulator-col-sorter.tabulator-col-sorter-element .tabulator-arrow:hover{cursor:pointer;border-bottom:6px solid #555}}.tabulator .tabulator-header .tabulator-col.tabulator-sortable[aria-sort=ascending] .tabulator-col-content .tabulator-col-sorter .tabulator-arrow{border-top:none;border-bottom:6px solid #666}.tabulator .tabulator-header .tabulator-col.tabulator-sortable[aria-sort=descending] .tabulator-col-content .tabulator-col-sorter{color:#666}@media (hover:hover) and (pointer:fine){.tabulator .tabulator-header .tabulator-col.tabulator-sortable[aria-sort=descending] .tabulator-col-content .tabulator-col-sorter.tabulator-col-sorter-element .tabulator-arrow:hover{cursor:pointer;border-top:6px solid #555}}.tabulator .tabulator-header .tabulator-col.tabulator-sortable[aria-sort=descending] .tabulator-col-content .tabulator-col-sorter .tabulator-arrow{border-bottom:none;border-top:6px solid #666;color:#666}.tabulator .tabulator-header .tabulator-col.tabulator-col-vertical .tabulator-col-content .tabulator-col-title{writing-mode:vertical-rl;text-orientation:mixed;display:flex;align-items:center;justify-content:center}.tabulator .tabulator-header .tabulator-col.tabulator-col-vertical.tabulator-col-vertical-flip .tabulator-col-title{transform:rotate(180deg)}.tabulator .tabulator-header .tabulator-col.tabulator-col-vertical.tabulator-sortable .tabulator-col-title{padding-right:0;padding-top:20px}.tabulator .tabulator-header .tabulator-col.tabulator-col-vertical.tabulator-sortable.tabulator-col-vertical-flip .tabulator-col-title{padding-right:0;padding-bottom:20px}.tabulator .tabulator-header .tabulator-col.tabulator-col-vertical.tabulator-sortable .tabulator-col-sorter{justify-content:center;left:0;right:0;top:4px;bottom:auto}.tabulator .tabulator-header .tabulator-frozen{position:sticky;left:0;z-index:10}.tabulator .tabulator-header .tabulator-frozen.tabulator-frozen-left{border-right:2px solid #ddd}.tabulator .tabulator-header .tabulator-frozen.tabulator-frozen-right{border-left:2px solid #ddd}.tabulator .tabulator-header .tabulator-calcs-holder{box-sizing:border-box;background:#fff!important;border-top:1px solid #ddd;border-bottom:1px solid #ddd}.tabulator .tabulator-header .tabulator-calcs-holder .tabulator-row{background:#fff!important}.tabulator .tabulator-header .tabulator-calcs-holder .tabulator-row .tabulator-col-resize-handle,.tabulator .tabulator-header .tabulator-frozen-rows-holder:empty{display:none}.tabulator .tabulator-tableholder{position:relative;width:100%;white-space:nowrap;overflow:auto;-webkit-overflow-scrolling:touch}.tabulator .tabulator-tableholder:focus{outline:none}.tabulator .tabulator-tableholder .tabulator-placeholder{box-sizing:border-box;display:flex;align-items:center;justify-content:center;width:100%}.tabulator .tabulator-tableholder .tabulator-placeholder[tabulator-render-mode=virtual]{min-height:100%;min-width:100%}.tabulator .tabulator-tableholder .tabulator-placeholder .tabulator-placeholder-contents{display:inline-block;text-align:center;padding:10px;color:#ccc;font-weight:700;font-size:20px;white-space:normal}.tabulator .tabulator-tableholder .tabulator-table{position:relative;display:inline-block;background-color:#fff;white-space:nowrap;overflow:visible;color:#333}.tabulator .tabulator-tableholder .tabulator-table .tabulator-row.tabulator-calcs{font-weight:700;background:#f2f2f2!important}.tabulator .tabulator-tableholder .tabulator-table .tabulator-row.tabulator-calcs.tabulator-calcs-top{border-bottom:2px solid #ddd}.tabulator .tabulator-tableholder .tabulator-table .tabulator-row.tabulator-calcs.tabulator-calcs-bottom{border-top:2px solid #ddd}.tabulator .tabulator-footer{border-top:1px solid #999;background-color:#fff;color:#555;font-weight:700;white-space:nowrap;user-select:none;-moz-user-select:none;-khtml-user-select:none;-webkit-user-select:none;-o-user-select:none}.tabulator .tabulator-footer .tabulator-footer-contents{display:flex;flex-direction:row;align-items:center;justify-content:space-between;padding:5px 10px}.tabulator .tabulator-footer .tabulator-footer-contents:empty{display:none}.tabulator .tabulator-footer .tabulator-calcs-holder{box-sizing:border-box;width:100%;text-align:left;background:#fff!important;border-bottom:1px solid #ddd;border-top:1px solid #ddd;overflow:hidden}.tabulator .tabulator-footer .tabulator-calcs-holder .tabulator-row{display:inline-block;background:#fff!important}.tabulator .tabulator-footer .tabulator-calcs-holder .tabulator-row .tabulator-col-resize-handle{display:none}.tabulator .tabulator-footer .tabulator-calcs-holder:only-child{margin-bottom:-5px;border-bottom:none}.tabulator .tabulator-footer>*+.tabulator-page-counter{margin-left:10px}.tabulator .tabulator-footer .tabulator-page-counter{font-weight:400}.tabulator .tabulator-footer .tabulator-paginator{flex:1;text-align:right;color:#555;font-family:inherit;font-weight:inherit;font-size:inherit}.tabulator .tabulator-footer .tabulator-page-size{display:inline-block;margin:0 5px;padding:2px 5px;border:1px solid #aaa;border-radius:3px}.tabulator .tabulator-footer .tabulator-pages{margin:0 7px}.tabulator .tabulator-footer .tabulator-page{display:inline-block;margin:0 2px;padding:2px 5px;border:1px solid #aaa;border-radius:3px;background:hsla(0,0%,100%,.2)}.tabulator .tabulator-footer .tabulator-page.active{color:#d00}.tabulator .tabulator-footer .tabulator-page:disabled{opacity:.5}@media (hover:hover) and (pointer:fine){.tabulator .tabulator-footer .tabulator-page:not(.disabled):hover{cursor:pointer;background:rgba(0,0,0,.2);color:#fff}}.tabulator .tabulator-col-resize-handle{position:relative;display:inline-block;width:6px;margin-left:-3px;margin-right:-3px;z-index:10;vertical-align:middle}@media (hover:hover) and (pointer:fine){.tabulator .tabulator-col-resize-handle:hover{cursor:ew-resize}}.tabulator .tabulator-col-resize-handle:last-of-type{width:3px;margin-right:0}.tabulator .tabulator-alert{position:absolute;display:flex;align-items:center;top:0;left:0;z-index:100;height:100%;width:100%;background:rgba(0,0,0,.4);text-align:center}.tabulator .tabulator-alert .tabulator-alert-msg{display:inline-block;margin:0 auto;padding:10px 20px;border-radius:10px;background:#fff;font-weight:700;font-size:16px}.tabulator .tabulator-alert .tabulator-alert-msg.tabulator-alert-state-msg{border:4px solid #333;color:#000}.tabulator .tabulator-alert .tabulator-alert-msg.tabulator-alert-state-error{border:4px solid #d00;color:#590000}.tabulator-row{position:relative;box-sizing:border-box;min-height:22px}.tabulator-row,.tabulator-row.tabulator-row-even{background-color:#fff}@media (hover:hover) and (pointer:fine){.tabulator-row.tabulator-selectable:hover{background-color:#bbb;cursor:pointer}}.tabulator-row.tabulator-selected{background-color:#9abcea}@media (hover:hover) and (pointer:fine){.tabulator-row.tabulator-selected:hover{background-color:#769bcc;cursor:pointer}}.tabulator-row.tabulator-row-moving{border:1px solid #000;background:#fff}.tabulator-row.tabulator-moving{position:absolute;border-top:1px solid #ddd;border-bottom:1px solid #ddd;pointer-events:none;z-index:15}.tabulator-row .tabulator-row-resize-handle{position:absolute;right:0;bottom:0;left:0;height:5px}.tabulator-row .tabulator-row-resize-handle.prev{top:0;bottom:auto}@media (hover:hover) and (pointer:fine){.tabulator-row .tabulator-row-resize-handle:hover{cursor:ns-resize}}.tabulator-row .tabulator-responsive-collapse{box-sizing:border-box;padding:5px;border-top:1px solid #ddd;border-bottom:1px solid #ddd}.tabulator-row .tabulator-responsive-collapse:empty{display:none}.tabulator-row .tabulator-responsive-collapse table{font-size:14px}.tabulator-row .tabulator-responsive-collapse table tr td{position:relative}.tabulator-row .tabulator-responsive-collapse table tr td:first-of-type{padding-right:10px}.tabulator-row .tabulator-cell{display:inline-block;position:relative;box-sizing:border-box;padding:4px;border-right:1px solid #ddd;vertical-align:middle;white-space:nowrap;overflow:hidden;text-overflow:ellipsis}.tabulator-row .tabulator-cell.tabulator-frozen{display:inline-block;position:sticky;left:0;background-color:inherit;z-index:10}.tabulator-row .tabulator-cell.tabulator-frozen.tabulator-frozen-left{border-right:2px solid #ddd}.tabulator-row .tabulator-cell.tabulator-frozen.tabulator-frozen-right{border-left:2px solid #ddd}.tabulator-row .tabulator-cell.tabulator-editing{border:1px solid #1d68cd;outline:none;padding:0}.tabulator-row .tabulator-cell.tabulator-editing input,.tabulator-row .tabulator-cell.tabulator-editing select{border:1px;background:transparent;outline:none}.tabulator-row .tabulator-cell.tabulator-validation-fail{border:1px solid #d00}.tabulator-row .tabulator-cell.tabulator-validation-fail input,.tabulator-row .tabulator-cell.tabulator-validation-fail select{border:1px;background:transparent;color:#d00}.tabulator-row .tabulator-cell.tabulator-row-handle{display:inline-flex;align-items:center;justify-content:center;-moz-user-select:none;-khtml-user-select:none;-webkit-user-select:none;-o-user-select:none}.tabulator-row .tabulator-cell.tabulator-row-handle .tabulator-row-handle-box{width:80%}.tabulator-row .tabulator-cell.tabulator-row-handle .tabulator-row-handle-box .tabulator-row-handle-bar{width:100%;height:3px;margin-top:2px;background:#666}.tabulator-row .tabulator-cell .tabulator-data-tree-branch{display:inline-block;vertical-align:middle;height:9px;width:7px;margin-top:-9px;margin-right:5px;border-bottom-left-radius:1px;border-left:2px solid #ddd;border-bottom:2px solid #ddd}.tabulator-row .tabulator-cell .tabulator-data-tree-control{display:inline-flex;justify-content:center;align-items:center;vertical-align:middle;height:11px;width:11px;margin-right:5px;border:1px solid #333;border-radius:2px;background:rgba(0,0,0,.1);overflow:hidden}@media (hover:hover) and (pointer:fine){.tabulator-row .tabulator-cell .tabulator-data-tree-control:hover{cursor:pointer;background:rgba(0,0,0,.2)}}.tabulator-row .tabulator-cell .tabulator-data-tree-control .tabulator-data-tree-control-collapse{display:inline-block;position:relative;height:7px;width:1px;background:transparent}.tabulator-row .tabulator-cell .tabulator-data-tree-control .tabulator-data-tree-control-collapse:after{position:absolute;content:\\\"\\\";left:-3px;top:3px;height:1px;width:7px;background:#333}.tabulator-row .tabulator-cell .tabulator-data-tree-control .tabulator-data-tree-control-expand{display:inline-block;position:relative;height:7px;width:1px;background:#333}.tabulator-row .tabulator-cell .tabulator-data-tree-control .tabulator-data-tree-control-expand:after{position:absolute;content:\\\"\\\";left:-3px;top:3px;height:1px;width:7px;background:#333}.tabulator-row .tabulator-cell .tabulator-responsive-collapse-toggle{display:inline-flex;align-items:center;justify-content:center;-moz-user-select:none;-khtml-user-select:none;-webkit-user-select:none;-o-user-select:none;height:15px;width:15px;border-radius:20px;background:#666;color:#fff;font-weight:700;font-size:1.1em}@media (hover:hover) and (pointer:fine){.tabulator-row .tabulator-cell .tabulator-responsive-collapse-toggle:hover{opacity:.7;cursor:pointer}}.tabulator-row .tabulator-cell .tabulator-responsive-collapse-toggle.open .tabulator-responsive-collapse-toggle-close{display:initial}.tabulator-row .tabulator-cell .tabulator-responsive-collapse-toggle.open .tabulator-responsive-collapse-toggle-open{display:none}.tabulator-row .tabulator-cell .tabulator-responsive-collapse-toggle svg{stroke:#fff}.tabulator-row .tabulator-cell .tabulator-responsive-collapse-toggle .tabulator-responsive-collapse-toggle-close{display:none}.tabulator-row .tabulator-cell .tabulator-traffic-light{display:inline-block;height:14px;width:14px;border-radius:14px}.tabulator-row.tabulator-group{box-sizing:border-box;border-bottom:1px solid #999;border-right:1px solid #ddd;border-top:1px solid #999;padding:5px 5px 5px 10px;background:#ccc;font-weight:700;min-width:100%}@media (hover:hover) and (pointer:fine){.tabulator-row.tabulator-group:hover{cursor:pointer;background-color:rgba(0,0,0,.1)}}.tabulator-row.tabulator-group.tabulator-group-visible .tabulator-arrow{margin-right:10px;border-left:6px solid transparent;border-right:6px solid transparent;border-top:6px solid #666;border-bottom:0}.tabulator-row.tabulator-group.tabulator-group-level-1{padding-left:30px}.tabulator-row.tabulator-group.tabulator-group-level-2{padding-left:50px}.tabulator-row.tabulator-group.tabulator-group-level-3{padding-left:70px}.tabulator-row.tabulator-group.tabulator-group-level-4{padding-left:90px}.tabulator-row.tabulator-group.tabulator-group-level-5{padding-left:110px}.tabulator-row.tabulator-group .tabulator-group-toggle{display:inline-block}.tabulator-row.tabulator-group .tabulator-arrow{display:inline-block;width:0;height:0;margin-right:16px;border-top:6px solid transparent;border-bottom:6px solid transparent;border-right:0;border-left:6px solid #666;vertical-align:middle}.tabulator-row.tabulator-group span{margin-left:10px;color:#d00}.tabulator-popup-container{position:absolute;display:inline-block;box-sizing:border-box;background:#fff;border:1px solid #ddd;box-shadow:0 0 5px 0 rgba(0,0,0,.2);font-size:14px;overflow-y:auto;-webkit-overflow-scrolling:touch;z-index:10000}.tabulator-popup{padding:5px;border-radius:3px}.tabulator-tooltip{max-width:Min(500px,100%);padding:3px 5px;border-radius:2px;box-shadow:none;font-size:12px;pointer-events:none}.tabulator-menu .tabulator-menu-item{position:relative;box-sizing:border-box;padding:5px 10px;user-select:none}.tabulator-menu .tabulator-menu-item.tabulator-menu-item-disabled{opacity:.5}@media (hover:hover) and (pointer:fine){.tabulator-menu .tabulator-menu-item:not(.tabulator-menu-item-disabled):hover{cursor:pointer;background:#fff}}.tabulator-menu .tabulator-menu-item.tabulator-menu-item-submenu{padding-right:25px}.tabulator-menu .tabulator-menu-item.tabulator-menu-item-submenu:after{display:inline-block;position:absolute;top:calc(5px + .4em);right:10px;height:7px;width:7px;content:\\\"\\\";border-color:#ddd;border-style:solid;border-width:1px 1px 0 0;vertical-align:top;transform:rotate(45deg)}.tabulator-menu .tabulator-menu-separator{border-top:1px solid #ddd}.tabulator-edit-list{max-height:200px;font-size:14px;overflow-y:auto;-webkit-overflow-scrolling:touch}.tabulator-edit-list .tabulator-edit-list-item{padding:4px;color:#333;outline:none}.tabulator-edit-list .tabulator-edit-list-item.active{color:#fff;background:#1d68cd}.tabulator-edit-list .tabulator-edit-list-item.active.focused{outline:1px solid hsla(0,0%,100%,.5)}.tabulator-edit-list .tabulator-edit-list-item.focused{outline:1px solid #1d68cd}@media (hover:hover) and (pointer:fine){.tabulator-edit-list .tabulator-edit-list-item:hover{cursor:pointer;color:#fff;background:#1d68cd}}.tabulator-edit-list .tabulator-edit-list-placeholder{padding:4px;color:#333;text-align:center}.tabulator-edit-list .tabulator-edit-list-group{border-bottom:1px solid #ddd;padding:6px 4px 4px;color:#333;font-weight:700}.tabulator-edit-list .tabulator-edit-list-group.tabulator-edit-list-group-level-2,.tabulator-edit-list .tabulator-edit-list-item.tabulator-edit-list-group-level-2{padding-left:12px}.tabulator-edit-list .tabulator-edit-list-group.tabulator-edit-list-group-level-3,.tabulator-edit-list .tabulator-edit-list-item.tabulator-edit-list-group-level-3{padding-left:20px}.tabulator-edit-list .tabulator-edit-list-group.tabulator-edit-list-group-level-4,.tabulator-edit-list .tabulator-edit-list-item.tabulator-edit-list-group-level-4{padding-left:28px}.tabulator-edit-list .tabulator-edit-list-group.tabulator-edit-list-group-level-5,.tabulator-edit-list .tabulator-edit-list-item.tabulator-edit-list-group-level-5{padding-left:36px}.tabulator.tabulator-ltr{direction:ltr}.tabulator.tabulator-rtl{text-align:initial;direction:rtl}.tabulator.tabulator-rtl .tabulator-header .tabulator-col{text-align:initial;border-left:1px solid #ddd;border-right:initial}.tabulator.tabulator-rtl .tabulator-header .tabulator-col.tabulator-col-group .tabulator-col-group-cols{margin-right:0;margin-left:-1px}.tabulator.tabulator-rtl .tabulator-header .tabulator-col.tabulator-sortable .tabulator-col-title{padding-right:0;padding-left:25px}.tabulator.tabulator-rtl .tabulator-header .tabulator-col .tabulator-col-content .tabulator-col-sorter{left:8px;right:auto}.tabulator.tabulator-rtl .tabulator-row .tabulator-cell{border-right:initial;border-left:1px solid #ddd}.tabulator.tabulator-rtl .tabulator-row .tabulator-cell .tabulator-data-tree-branch{margin-right:0;margin-left:5px;border-bottom-left-radius:0;border-bottom-right-radius:1px;border-left:initial;border-right:2px solid #ddd}.tabulator.tabulator-rtl .tabulator-row .tabulator-cell .tabulator-data-tree-control{margin-right:0;margin-left:5px}.tabulator.tabulator-rtl .tabulator-row .tabulator-cell.tabulator-frozen.tabulator-frozen-left{border-left:2px solid #ddd}.tabulator.tabulator-rtl .tabulator-row .tabulator-cell.tabulator-frozen.tabulator-frozen-right{border-right:2px solid #ddd}.tabulator.tabulator-rtl .tabulator-row .tabulator-col-resize-handle:last-of-type{width:3px;margin-left:0;margin-right:-3px}.tabulator.tabulator-rtl .tabulator-footer .tabulator-calcs-holder{text-align:initial}.tabulator-print-fullscreen{position:absolute;top:0;bottom:0;left:0;right:0;z-index:10000}body.tabulator-print-fullscreen-hide>:not(.tabulator-print-fullscreen){display:none!important}.tabulator-print-table{border-collapse:collapse}.tabulator-print-table .tabulator-data-tree-branch{display:inline-block;vertical-align:middle;height:9px;width:7px;margin-top:-9px;margin-right:5px;border-bottom-left-radius:1px;border-left:2px solid #ddd;border-bottom:2px solid #ddd}.tabulator-print-table .tabulator-print-table-group{box-sizing:border-box;border-bottom:1px solid #999;border-right:1px solid #ddd;border-top:1px solid #999;padding:5px 5px 5px 10px;background:#ccc;font-weight:700;min-width:100%}@media (hover:hover) and (pointer:fine){.tabulator-print-table .tabulator-print-table-group:hover{cursor:pointer;background-color:rgba(0,0,0,.1)}}.tabulator-print-table .tabulator-print-table-group.tabulator-group-visible .tabulator-arrow{margin-right:10px;border-left:6px solid transparent;border-right:6px solid transparent;border-top:6px solid #666;border-bottom:0}.tabulator-print-table .tabulator-print-table-group.tabulator-group-level-1 td{padding-left:30px!important}.tabulator-print-table .tabulator-print-table-group.tabulator-group-level-2 td{padding-left:50px!important}.tabulator-print-table .tabulator-print-table-group.tabulator-group-level-3 td{padding-left:70px!important}.tabulator-print-table .tabulator-print-table-group.tabulator-group-level-4 td{padding-left:90px!important}.tabulator-print-table .tabulator-print-table-group.tabulator-group-level-5 td{padding-left:110px!important}.tabulator-print-table .tabulator-print-table-group .tabulator-group-toggle{display:inline-block}.tabulator-print-table .tabulator-print-table-group .tabulator-arrow{display:inline-block;width:0;height:0;margin-right:16px;border-top:6px solid transparent;border-bottom:6px solid transparent;border-right:0;border-left:6px solid #666;vertical-align:middle}.tabulator-print-table .tabulator-print-table-group span{color:#d00}.tabulator-print-table .tabulator-data-tree-control{display:inline-flex;justify-content:center;align-items:center;vertical-align:middle;height:11px;width:11px;margin-right:5px;border:1px solid #333;border-radius:2px;background:rgba(0,0,0,.1);overflow:hidden}@media (hover:hover) and (pointer:fine){.tabulator-print-table .tabulator-data-tree-control:hover{cursor:pointer;background:rgba(0,0,0,.2)}}.tabulator-print-table .tabulator-data-tree-control .tabulator-data-tree-control-collapse{display:inline-block;position:relative;height:7px;width:1px;background:transparent}.tabulator-print-table .tabulator-data-tree-control .tabulator-data-tree-control-collapse:after{position:absolute;content:\\\"\\\";left:-3px;top:3px;height:1px;width:7px;background:#333}.tabulator-print-table .tabulator-data-tree-control .tabulator-data-tree-control-expand{display:inline-block;position:relative;height:7px;width:1px;background:#333}.tabulator-print-table .tabulator-data-tree-control .tabulator-data-tree-control-expand:after{position:absolute;content:\\\"\\\";left:-3px;top:3px;height:1px;width:7px;background:#333}.tabulator{border:none;background-color:#fff}.tabulator .tabulator-header .tabulator-calcs-holder{background:#f2f2f2!important;border-bottom:1px solid #999}.tabulator .tabulator-header .tabulator-calcs-holder .tabulator-row{background:#f2f2f2!important}.tabulator .tabulator-tableholder .tabulator-placeholder span{color:#000}.tabulator .tabulator-footer .tabulator-calcs-holder{background:#f2f2f2!important;border-bottom:1px solid #fff}.tabulator .tabulator-footer .tabulator-calcs-holder .tabulator-row{background:#f2f2f2!important}.tabulator-row{border-bottom:1px solid #ddd}.tabulator-row .tabulator-cell:last-of-type{border-right:none}.tabulator-row.tabulator-group span{color:#666}.tabulator-print-table .tabulator-print-table-group span{margin-left:10px;color:#666}\\n/*# sourceMappingURL=tabulator_simple.min.css.map */\");\n    },    function(Bokeh) {\n      Bokeh.set_log_level(\"info\");\n    },\nfunction(Bokeh) {} // ensure no trailing comma for IE\n  ];\n\n  function run_inline_js() {\n    if ((root.Bokeh !== undefined) || (force === true)) {\n      for (var i = 0; i < inline_js.length; i++) {\n        inline_js[i].call(root, root.Bokeh);\n      }\n      // Cache old bokeh versions\n      if (Bokeh != undefined && !reloading) {\n\tvar NewBokeh = root.Bokeh;\n\tif (Bokeh.versions === undefined) {\n\t  Bokeh.versions = new Map();\n\t}\n\tif (NewBokeh.version !== Bokeh.version) {\n\t  Bokeh.versions.set(NewBokeh.version, NewBokeh)\n\t}\n\troot.Bokeh = Bokeh;\n      }} else if (Date.now() < root._bokeh_timeout) {\n      setTimeout(run_inline_js, 100);\n    } else if (!root._bokeh_failed_load) {\n      console.log(\"Bokeh: BokehJS failed to load within specified timeout.\");\n      root._bokeh_failed_load = true;\n    }\n    root._bokeh_is_initializing = false\n  }\n\n  function load_or_wait() {\n    // Implement a backoff loop that tries to ensure we do not load multiple\n    // versions of Bokeh and its dependencies at the same time.\n    // In recent versions we use the root._bokeh_is_initializing flag\n    // to determine whether there is an ongoing attempt to initialize\n    // bokeh, however for backward compatibility we also try to ensure\n    // that we do not start loading a newer (Panel>=1.0 and Bokeh>3) version\n    // before older versions are fully initialized.\n    if (root._bokeh_is_initializing && Date.now() > root._bokeh_timeout) {\n      root._bokeh_is_initializing = false;\n      root._bokeh_onload_callbacks = undefined;\n      console.log(\"Bokeh: BokehJS was loaded multiple times but one version failed to initialize.\");\n      load_or_wait();\n    } else if (root._bokeh_is_initializing || (typeof root._bokeh_is_initializing === \"undefined\" && root._bokeh_onload_callbacks !== undefined)) {\n      setTimeout(load_or_wait, 100);\n    } else {\n      Bokeh = root.Bokeh;\n      bokeh_loaded = Bokeh != null && (Bokeh.version === py_version || (Bokeh.versions !== undefined && Bokeh.versions.has(py_version)));\n      root._bokeh_is_initializing = true\n      root._bokeh_onload_callbacks = []\n      if (!reloading && (!bokeh_loaded || is_dev)) {\n\troot.Bokeh = undefined;\n      }\n      load_libs(css_urls, js_urls, js_modules, js_exports, function() {\n\tconsole.debug(\"Bokeh: BokehJS plotting callback run at\", now());\n\trun_inline_js();\n      });\n    }\n  }\n  // Give older versions of the autoload script a head-start to ensure\n  // they initialize before we start loading newer version.\n  setTimeout(load_or_wait, 100)\n}(window));",
      "application/vnd.holoviews_load.v0+json": ""
     },
     "metadata": {},
     "output_type": "display_data"
    },
    {
     "data": {
      "application/javascript": "\nif ((window.PyViz === undefined) || (window.PyViz instanceof HTMLElement)) {\n  window.PyViz = {comms: {}, comm_status:{}, kernels:{}, receivers: {}, plot_index: []}\n}\n\n\n    function JupyterCommManager() {\n    }\n\n    JupyterCommManager.prototype.register_target = function(plot_id, comm_id, msg_handler) {\n      if (window.comm_manager || ((window.Jupyter !== undefined) && (Jupyter.notebook.kernel != null))) {\n        var comm_manager = window.comm_manager || Jupyter.notebook.kernel.comm_manager;\n        comm_manager.register_target(comm_id, function(comm) {\n          comm.on_msg(msg_handler);\n        });\n      } else if ((plot_id in window.PyViz.kernels) && (window.PyViz.kernels[plot_id])) {\n        window.PyViz.kernels[plot_id].registerCommTarget(comm_id, function(comm) {\n          comm.onMsg = msg_handler;\n        });\n      } else if (typeof google != 'undefined' && google.colab.kernel != null) {\n        google.colab.kernel.comms.registerTarget(comm_id, (comm) => {\n          var messages = comm.messages[Symbol.asyncIterator]();\n          function processIteratorResult(result) {\n            var message = result.value;\n            console.log(message)\n            var content = {data: message.data, comm_id};\n            var buffers = []\n            for (var buffer of message.buffers || []) {\n              buffers.push(new DataView(buffer))\n            }\n            var metadata = message.metadata || {};\n            var msg = {content, buffers, metadata}\n            msg_handler(msg);\n            return messages.next().then(processIteratorResult);\n          }\n          return messages.next().then(processIteratorResult);\n        })\n      }\n    }\n\n    JupyterCommManager.prototype.get_client_comm = function(plot_id, comm_id, msg_handler) {\n      if (comm_id in window.PyViz.comms) {\n        return window.PyViz.comms[comm_id];\n      } else if (window.comm_manager || ((window.Jupyter !== undefined) && (Jupyter.notebook.kernel != null))) {\n        var comm_manager = window.comm_manager || Jupyter.notebook.kernel.comm_manager;\n        var comm = comm_manager.new_comm(comm_id, {}, {}, {}, comm_id);\n        if (msg_handler) {\n          comm.on_msg(msg_handler);\n        }\n      } else if ((plot_id in window.PyViz.kernels) && (window.PyViz.kernels[plot_id])) {\n        var comm = window.PyViz.kernels[plot_id].connectToComm(comm_id);\n        comm.open();\n        if (msg_handler) {\n          comm.onMsg = msg_handler;\n        }\n      } else if (typeof google != 'undefined' && google.colab.kernel != null) {\n        var comm_promise = google.colab.kernel.comms.open(comm_id)\n        comm_promise.then((comm) => {\n          window.PyViz.comms[comm_id] = comm;\n          if (msg_handler) {\n            var messages = comm.messages[Symbol.asyncIterator]();\n            function processIteratorResult(result) {\n              var message = result.value;\n              var content = {data: message.data};\n              var metadata = message.metadata || {comm_id};\n              var msg = {content, metadata}\n              msg_handler(msg);\n              return messages.next().then(processIteratorResult);\n            }\n            return messages.next().then(processIteratorResult);\n          }\n        }) \n        var sendClosure = (data, metadata, buffers, disposeOnDone) => {\n          return comm_promise.then((comm) => {\n            comm.send(data, metadata, buffers, disposeOnDone);\n          });\n        };\n        var comm = {\n          send: sendClosure\n        };\n      }\n      window.PyViz.comms[comm_id] = comm;\n      return comm;\n    }\n    window.PyViz.comm_manager = new JupyterCommManager();\n    \n\n\nvar JS_MIME_TYPE = 'application/javascript';\nvar HTML_MIME_TYPE = 'text/html';\nvar EXEC_MIME_TYPE = 'application/vnd.holoviews_exec.v0+json';\nvar CLASS_NAME = 'output';\n\n/**\n * Render data to the DOM node\n */\nfunction render(props, node) {\n  var div = document.createElement(\"div\");\n  var script = document.createElement(\"script\");\n  node.appendChild(div);\n  node.appendChild(script);\n}\n\n/**\n * Handle when a new output is added\n */\nfunction handle_add_output(event, handle) {\n  var output_area = handle.output_area;\n  var output = handle.output;\n  if ((output.data == undefined) || (!output.data.hasOwnProperty(EXEC_MIME_TYPE))) {\n    return\n  }\n  var id = output.metadata[EXEC_MIME_TYPE][\"id\"];\n  var toinsert = output_area.element.find(\".\" + CLASS_NAME.split(' ')[0]);\n  if (id !== undefined) {\n    var nchildren = toinsert.length;\n    var html_node = toinsert[nchildren-1].children[0];\n    html_node.innerHTML = output.data[HTML_MIME_TYPE];\n    var scripts = [];\n    var nodelist = html_node.querySelectorAll(\"script\");\n    for (var i in nodelist) {\n      if (nodelist.hasOwnProperty(i)) {\n        scripts.push(nodelist[i])\n      }\n    }\n\n    scripts.forEach( function (oldScript) {\n      var newScript = document.createElement(\"script\");\n      var attrs = [];\n      var nodemap = oldScript.attributes;\n      for (var j in nodemap) {\n        if (nodemap.hasOwnProperty(j)) {\n          attrs.push(nodemap[j])\n        }\n      }\n      attrs.forEach(function(attr) { newScript.setAttribute(attr.name, attr.value) });\n      newScript.appendChild(document.createTextNode(oldScript.innerHTML));\n      oldScript.parentNode.replaceChild(newScript, oldScript);\n    });\n    if (JS_MIME_TYPE in output.data) {\n      toinsert[nchildren-1].children[1].textContent = output.data[JS_MIME_TYPE];\n    }\n    output_area._hv_plot_id = id;\n    if ((window.Bokeh !== undefined) && (id in Bokeh.index)) {\n      window.PyViz.plot_index[id] = Bokeh.index[id];\n    } else {\n      window.PyViz.plot_index[id] = null;\n    }\n  } else if (output.metadata[EXEC_MIME_TYPE][\"server_id\"] !== undefined) {\n    var bk_div = document.createElement(\"div\");\n    bk_div.innerHTML = output.data[HTML_MIME_TYPE];\n    var script_attrs = bk_div.children[0].attributes;\n    for (var i = 0; i < script_attrs.length; i++) {\n      toinsert[toinsert.length - 1].childNodes[1].setAttribute(script_attrs[i].name, script_attrs[i].value);\n    }\n    // store reference to server id on output_area\n    output_area._bokeh_server_id = output.metadata[EXEC_MIME_TYPE][\"server_id\"];\n  }\n}\n\n/**\n * Handle when an output is cleared or removed\n */\nfunction handle_clear_output(event, handle) {\n  var id = handle.cell.output_area._hv_plot_id;\n  var server_id = handle.cell.output_area._bokeh_server_id;\n  if (((id === undefined) || !(id in PyViz.plot_index)) && (server_id !== undefined)) { return; }\n  var comm = window.PyViz.comm_manager.get_client_comm(\"hv-extension-comm\", \"hv-extension-comm\", function () {});\n  if (server_id !== null) {\n    comm.send({event_type: 'server_delete', 'id': server_id});\n    return;\n  } else if (comm !== null) {\n    comm.send({event_type: 'delete', 'id': id});\n  }\n  delete PyViz.plot_index[id];\n  if ((window.Bokeh !== undefined) & (id in window.Bokeh.index)) {\n    var doc = window.Bokeh.index[id].model.document\n    doc.clear();\n    const i = window.Bokeh.documents.indexOf(doc);\n    if (i > -1) {\n      window.Bokeh.documents.splice(i, 1);\n    }\n  }\n}\n\n/**\n * Handle kernel restart event\n */\nfunction handle_kernel_cleanup(event, handle) {\n  delete PyViz.comms[\"hv-extension-comm\"];\n  window.PyViz.plot_index = {}\n}\n\n/**\n * Handle update_display_data messages\n */\nfunction handle_update_output(event, handle) {\n  handle_clear_output(event, {cell: {output_area: handle.output_area}})\n  handle_add_output(event, handle)\n}\n\nfunction register_renderer(events, OutputArea) {\n  function append_mime(data, metadata, element) {\n    // create a DOM node to render to\n    var toinsert = this.create_output_subarea(\n    metadata,\n    CLASS_NAME,\n    EXEC_MIME_TYPE\n    );\n    this.keyboard_manager.register_events(toinsert);\n    // Render to node\n    var props = {data: data, metadata: metadata[EXEC_MIME_TYPE]};\n    render(props, toinsert[0]);\n    element.append(toinsert);\n    return toinsert\n  }\n\n  events.on('output_added.OutputArea', handle_add_output);\n  events.on('output_updated.OutputArea', handle_update_output);\n  events.on('clear_output.CodeCell', handle_clear_output);\n  events.on('delete.Cell', handle_clear_output);\n  events.on('kernel_ready.Kernel', handle_kernel_cleanup);\n\n  OutputArea.prototype.register_mime_type(EXEC_MIME_TYPE, append_mime, {\n    safe: true,\n    index: 0\n  });\n}\n\nif (window.Jupyter !== undefined) {\n  try {\n    var events = require('base/js/events');\n    var OutputArea = require('notebook/js/outputarea').OutputArea;\n    if (OutputArea.prototype.mime_types().indexOf(EXEC_MIME_TYPE) == -1) {\n      register_renderer(events, OutputArea);\n    }\n  } catch(err) {\n  }\n}\n",
      "application/vnd.holoviews_load.v0+json": ""
     },
     "metadata": {},
     "output_type": "display_data"
    },
    {
     "data": {
      "text/html": [
       "<style>*[data-root-id],\n",
       "*[data-root-id] > * {\n",
       "  box-sizing: border-box;\n",
       "  font-family: var(--jp-ui-font-family);\n",
       "  font-size: var(--jp-ui-font-size1);\n",
       "  color: var(--vscode-editor-foreground, var(--jp-ui-font-color1));\n",
       "}\n",
       "\n",
       "/* Override VSCode background color */\n",
       ".cell-output-ipywidget-background:has(\n",
       "    > .cell-output-ipywidget-background > .lm-Widget > *[data-root-id]\n",
       "  ),\n",
       ".cell-output-ipywidget-background:has(> .lm-Widget > *[data-root-id]) {\n",
       "  background-color: transparent !important;\n",
       "}\n",
       "</style>"
      ]
     },
     "metadata": {},
     "output_type": "display_data"
    },
    {
     "data": {
      "application/vnd.holoviews_exec.v0+json": "",
      "text/html": [
       "<div id='cad618c0-dbb9-4b60-800e-a4cefb7edc46'>\n",
       "  <div id=\"c4ea8c15-0a8b-4640-bdb9-73e88965263f\" data-root-id=\"cad618c0-dbb9-4b60-800e-a4cefb7edc46\" style=\"display: contents;\"></div>\n",
       "</div>\n",
       "<script type=\"application/javascript\">(function(root) {\n",
       "  var docs_json = {\"7481b7e9-8268-41a7-a44a-cc03c281fe5a\":{\"version\":\"3.2.0\",\"title\":\"Bokeh Application\",\"roots\":[{\"type\":\"object\",\"name\":\"panel.models.browser.BrowserInfo\",\"id\":\"cad618c0-dbb9-4b60-800e-a4cefb7edc46\"},{\"type\":\"object\",\"name\":\"panel.models.comm_manager.CommManager\",\"id\":\"3adafd60-6087-4d02-92f6-a60c18d79754\",\"attributes\":{\"plot_id\":\"cad618c0-dbb9-4b60-800e-a4cefb7edc46\",\"comm_id\":\"622215e1dc334665a0cdbf70c7470c65\",\"client_comm_id\":\"1b610af98fbd4b2da1b8291b7707e454\"}}],\"defs\":[{\"type\":\"model\",\"name\":\"ReactiveHTML1\"},{\"type\":\"model\",\"name\":\"FlexBox1\",\"properties\":[{\"name\":\"align_content\",\"kind\":\"Any\",\"default\":\"flex-start\"},{\"name\":\"align_items\",\"kind\":\"Any\",\"default\":\"flex-start\"},{\"name\":\"flex_direction\",\"kind\":\"Any\",\"default\":\"row\"},{\"name\":\"flex_wrap\",\"kind\":\"Any\",\"default\":\"wrap\"},{\"name\":\"justify_content\",\"kind\":\"Any\",\"default\":\"flex-start\"}]},{\"type\":\"model\",\"name\":\"FloatPanel1\",\"properties\":[{\"name\":\"config\",\"kind\":\"Any\",\"default\":{\"type\":\"map\"}},{\"name\":\"contained\",\"kind\":\"Any\",\"default\":true},{\"name\":\"position\",\"kind\":\"Any\",\"default\":\"right-top\"},{\"name\":\"offsetx\",\"kind\":\"Any\",\"default\":null},{\"name\":\"offsety\",\"kind\":\"Any\",\"default\":null},{\"name\":\"theme\",\"kind\":\"Any\",\"default\":\"primary\"},{\"name\":\"status\",\"kind\":\"Any\",\"default\":\"normalized\"}]},{\"type\":\"model\",\"name\":\"GridStack1\",\"properties\":[{\"name\":\"mode\",\"kind\":\"Any\",\"default\":\"warn\"},{\"name\":\"ncols\",\"kind\":\"Any\",\"default\":null},{\"name\":\"nrows\",\"kind\":\"Any\",\"default\":null},{\"name\":\"allow_resize\",\"kind\":\"Any\",\"default\":true},{\"name\":\"allow_drag\",\"kind\":\"Any\",\"default\":true},{\"name\":\"state\",\"kind\":\"Any\",\"default\":[]}]},{\"type\":\"model\",\"name\":\"drag1\",\"properties\":[{\"name\":\"slider_width\",\"kind\":\"Any\",\"default\":5},{\"name\":\"slider_color\",\"kind\":\"Any\",\"default\":\"black\"},{\"name\":\"value\",\"kind\":\"Any\",\"default\":50}]},{\"type\":\"model\",\"name\":\"click1\",\"properties\":[{\"name\":\"terminal_output\",\"kind\":\"Any\",\"default\":\"\"},{\"name\":\"debug_name\",\"kind\":\"Any\",\"default\":\"\"},{\"name\":\"clears\",\"kind\":\"Any\",\"default\":0}]},{\"type\":\"model\",\"name\":\"FastWrapper1\",\"properties\":[{\"name\":\"object\",\"kind\":\"Any\",\"default\":null},{\"name\":\"style\",\"kind\":\"Any\",\"default\":null}]},{\"type\":\"model\",\"name\":\"NotificationAreaBase1\",\"properties\":[{\"name\":\"position\",\"kind\":\"Any\",\"default\":\"bottom-right\"},{\"name\":\"_clear\",\"kind\":\"Any\",\"default\":0}]},{\"type\":\"model\",\"name\":\"NotificationArea1\",\"properties\":[{\"name\":\"notifications\",\"kind\":\"Any\",\"default\":[]},{\"name\":\"position\",\"kind\":\"Any\",\"default\":\"bottom-right\"},{\"name\":\"_clear\",\"kind\":\"Any\",\"default\":0},{\"name\":\"types\",\"kind\":\"Any\",\"default\":[{\"type\":\"map\",\"entries\":[[\"type\",\"warning\"],[\"background\",\"#ffc107\"],[\"icon\",{\"type\":\"map\",\"entries\":[[\"className\",\"fas fa-exclamation-triangle\"],[\"tagName\",\"i\"],[\"color\",\"white\"]]}]]},{\"type\":\"map\",\"entries\":[[\"type\",\"info\"],[\"background\",\"#007bff\"],[\"icon\",{\"type\":\"map\",\"entries\":[[\"className\",\"fas fa-info-circle\"],[\"tagName\",\"i\"],[\"color\",\"white\"]]}]]}]}]},{\"type\":\"model\",\"name\":\"Notification\",\"properties\":[{\"name\":\"background\",\"kind\":\"Any\",\"default\":null},{\"name\":\"duration\",\"kind\":\"Any\",\"default\":3000},{\"name\":\"icon\",\"kind\":\"Any\",\"default\":null},{\"name\":\"message\",\"kind\":\"Any\",\"default\":\"\"},{\"name\":\"notification_type\",\"kind\":\"Any\",\"default\":null},{\"name\":\"_destroyed\",\"kind\":\"Any\",\"default\":false}]},{\"type\":\"model\",\"name\":\"TemplateActions1\",\"properties\":[{\"name\":\"open_modal\",\"kind\":\"Any\",\"default\":0},{\"name\":\"close_modal\",\"kind\":\"Any\",\"default\":0}]},{\"type\":\"model\",\"name\":\"BootstrapTemplateActions1\",\"properties\":[{\"name\":\"open_modal\",\"kind\":\"Any\",\"default\":0},{\"name\":\"close_modal\",\"kind\":\"Any\",\"default\":0}]},{\"type\":\"model\",\"name\":\"MaterialTemplateActions1\",\"properties\":[{\"name\":\"open_modal\",\"kind\":\"Any\",\"default\":0},{\"name\":\"close_modal\",\"kind\":\"Any\",\"default\":0}]}]}};\n",
       "  var render_items = [{\"docid\":\"7481b7e9-8268-41a7-a44a-cc03c281fe5a\",\"roots\":{\"cad618c0-dbb9-4b60-800e-a4cefb7edc46\":\"c4ea8c15-0a8b-4640-bdb9-73e88965263f\"},\"root_ids\":[\"cad618c0-dbb9-4b60-800e-a4cefb7edc46\"]}];\n",
       "  var docs = Object.values(docs_json)\n",
       "  if (!docs) {\n",
       "    return\n",
       "  }\n",
       "  const py_version = docs[0].version.replace('rc', '-rc.').replace('.dev', '-dev.')\n",
       "  const is_dev = py_version.indexOf(\"+\") !== -1 || py_version.indexOf(\"-\") !== -1\n",
       "  function embed_document(root) {\n",
       "    var Bokeh = get_bokeh(root)\n",
       "    Bokeh.embed.embed_items_notebook(docs_json, render_items);\n",
       "    for (const render_item of render_items) {\n",
       "      for (const root_id of render_item.root_ids) {\n",
       "\tconst id_el = document.getElementById(root_id)\n",
       "\tif (id_el.children.length && (id_el.children[0].className === 'bk-root')) {\n",
       "\t  const root_el = id_el.children[0]\n",
       "\t  root_el.id = root_el.id + '-rendered'\n",
       "\t}\n",
       "      }\n",
       "    }\n",
       "  }\n",
       "  function get_bokeh(root) {\n",
       "    if (root.Bokeh === undefined) {\n",
       "      return null\n",
       "    } else if (root.Bokeh.version !== py_version && !is_dev) {\n",
       "      if (root.Bokeh.versions === undefined || !root.Bokeh.versions.has(py_version)) {\n",
       "\treturn null\n",
       "      }\n",
       "      return root.Bokeh.versions.get(py_version);\n",
       "    } else if (root.Bokeh.version === py_version) {\n",
       "      return root.Bokeh\n",
       "    }\n",
       "    return null\n",
       "  }\n",
       "  function is_loaded(root) {\n",
       "    var Bokeh = get_bokeh(root)\n",
       "    return (Bokeh != null && Bokeh.Panel !== undefined && ( root['Tabulator'] !== undefined) && ( root['Tabulator'] !== undefined))\n",
       "  }\n",
       "  if (is_loaded(root)) {\n",
       "    embed_document(root);\n",
       "  } else {\n",
       "    var attempts = 0;\n",
       "    var timer = setInterval(function(root) {\n",
       "      if (is_loaded(root)) {\n",
       "        clearInterval(timer);\n",
       "        embed_document(root);\n",
       "      } else if (document.readyState == \"complete\") {\n",
       "        attempts++;\n",
       "        if (attempts > 200) {\n",
       "          clearInterval(timer);\n",
       "\t  var Bokeh = get_bokeh(root)\n",
       "\t  if (Bokeh == null || Bokeh.Panel == null) {\n",
       "            console.warn(\"Panel: ERROR: Unable to run Panel code because Bokeh or Panel library is missing\");\n",
       "\t  } else {\n",
       "\t    console.warn(\"Panel: WARNING: Attempting to render but not all required libraries could be resolved.\")\n",
       "\t    embed_document(root)\n",
       "\t  }\n",
       "        }\n",
       "      }\n",
       "    }, 25, root)\n",
       "  }\n",
       "})(window);</script>"
      ]
     },
     "metadata": {
      "application/vnd.holoviews_exec.v0+json": {
       "id": "cad618c0-dbb9-4b60-800e-a4cefb7edc46"
      }
     },
     "output_type": "display_data"
    }
   ],
   "source": [
    "# import holoviews as hv\n",
    "# import hvplot.pandas\n",
    "import panel as pn\n",
    "import polars as pl\n",
    "import numpy as np\n",
    "import jupyter_black\n",
    "\n",
    "from panel.widgets import Tabulator\n",
    "\n",
    "pl.Config.set_fmt_str_lengths(200)\n",
    "pl.Config.set_fmt_float(\"full\")\n",
    "jupyter_black.load()\n",
    "\n",
    "pn.extension(\"tabulator\", template=\"material\", sizing_mode=\"stretch_width\")"
   ]
  },
  {
   "cell_type": "markdown",
   "metadata": {},
   "source": [
    "Make a gas estimator for gas congestion using a Kalman Filter  "
   ]
  },
  {
   "cell_type": "code",
   "execution_count": 2,
   "metadata": {},
   "outputs": [],
   "source": [
    "from pykalman import KalmanFilter"
   ]
  },
  {
   "cell_type": "code",
   "execution_count": 3,
   "metadata": {},
   "outputs": [
    {
     "data": {
      "text/html": [
       "<div><style>\n",
       ".dataframe > thead > tr,\n",
       ".dataframe > tbody > tr {\n",
       "  text-align: right;\n",
       "  white-space: pre-wrap;\n",
       "}\n",
       "</style>\n",
       "<small>shape: (5, 3)</small><table border=\"1\" class=\"dataframe\"><thead><tr><th>block_number</th><th>gas_used</th><th>base_fee_per_gas</th></tr><tr><td>u32</td><td>u64</td><td>u64</td></tr></thead><tbody><tr><td>13000000</td><td>1282538</td><td>46240053122</td></tr><tr><td>13000001</td><td>30019450</td><td>40954251693</td></tr><tr><td>13000002</td><td>8534883</td><td>46070176818</td></tr><tr><td>13000003</td><td>29989710</td><td>43588101124</td></tr><tr><td>13000004</td><td>2369403</td><td>49032876084</td></tr></tbody></table></div>"
      ],
      "text/plain": [
       "shape: (5, 3)\n",
       "┌──────────────┬──────────┬──────────────────┐\n",
       "│ block_number ┆ gas_used ┆ base_fee_per_gas │\n",
       "│ ---          ┆ ---      ┆ ---              │\n",
       "│ u32          ┆ u64      ┆ u64              │\n",
       "╞══════════════╪══════════╪══════════════════╡\n",
       "│ 13000000     ┆ 1282538  ┆ 46240053122      │\n",
       "│ 13000001     ┆ 30019450 ┆ 40954251693      │\n",
       "│ 13000002     ┆ 8534883  ┆ 46070176818      │\n",
       "│ 13000003     ┆ 29989710 ┆ 43588101124      │\n",
       "│ 13000004     ┆ 2369403  ┆ 49032876084      │\n",
       "└──────────────┴──────────┴──────────────────┘"
      ]
     },
     "execution_count": 3,
     "metadata": {},
     "output_type": "execute_result"
    }
   ],
   "source": [
    "df = pl.read_parquet(\"../data/raw_eth/blocks/*.parquet\")\n",
    "# turn into numpy matrix\n",
    "df.head(5).select(\"block_number\", \"gas_used\", \"base_fee_per_gas\")"
   ]
  },
  {
   "cell_type": "code",
   "execution_count": 4,
   "metadata": {},
   "outputs": [],
   "source": [
    "SAMPLE_SIZE: int = 7600"
   ]
  },
  {
   "cell_type": "code",
   "execution_count": 5,
   "metadata": {},
   "outputs": [
    {
     "data": {
      "text/plain": [
       "array([   19032401,    10691506, 27197882487], dtype=uint64)"
      ]
     },
     "execution_count": 5,
     "metadata": {},
     "output_type": "execute_result"
    }
   ],
   "source": [
    "np_matrix = (\n",
    "    df.select(\"block_number\", \"gas_used\", \"base_fee_per_gas\")\n",
    "    .sort(by=\"block_number\")\n",
    "    .tail(SAMPLE_SIZE)\n",
    "    .to_numpy()\n",
    ")\n",
    "\n",
    "np_matrix[1]"
   ]
  },
  {
   "cell_type": "code",
   "execution_count": 6,
   "metadata": {},
   "outputs": [],
   "source": [
    "# Extract only 'gas_used' and 'base_fee_per_gas' columns\n",
    "data = np_matrix[:, 1:]\n",
    "\n",
    "# Set up the Kalman Filter\n",
    "kf = KalmanFilter(\n",
    "    transition_matrices=np.eye(2),  # 2x2 Identity matrix for transition\n",
    "    observation_matrices=np.eye(2),  # 2x2 Identity matrix for observation\n",
    "    initial_state_mean=data[0, :],  # Initial state\n",
    "    initial_state_covariance=np.ones((2, 2)),  # Initial covariance\n",
    ")\n",
    "\n",
    "# Now, refine the Kalman Filter parameters using EM algorithm\n",
    "kf = kf.em(data, n_iter=5)\n",
    "\n",
    "# Apply the Kalman Filter to your data\n",
    "(filtered_state_means, filtered_state_covariances) = kf.filter(data)"
   ]
  },
  {
   "cell_type": "code",
   "execution_count": 7,
   "metadata": {},
   "outputs": [
    {
     "data": {
      "text/html": [
       "<div><style>\n",
       ".dataframe > thead > tr,\n",
       ".dataframe > tbody > tr {\n",
       "  text-align: right;\n",
       "  white-space: pre-wrap;\n",
       "}\n",
       "</style>\n",
       "<small>shape: (5, 2)</small><table border=\"1\" class=\"dataframe\"><thead><tr><th>gas_used</th><th>base_fee_per_gas</th></tr><tr><td>f64</td><td>f64</td></tr></thead><tbody><tr><td>-29163502.002749864</td><td>27242054143.997234</td></tr><tr><td>-24193162.412826132</td><td>30787995049.612164</td></tr><tr><td>-14976251.136995664</td><td>30491100697.168053</td></tr><tr><td>-6325433.2680203635</td><td>30223944057.28139</td></tr><tr><td>-1582504.7312938115</td><td>29497019811.422676</td></tr></tbody></table></div>"
      ],
      "text/plain": [
       "shape: (5, 2)\n",
       "┌─────────────────────┬────────────────────┐\n",
       "│ gas_used            ┆ base_fee_per_gas   │\n",
       "│ ---                 ┆ ---                │\n",
       "│ f64                 ┆ f64                │\n",
       "╞═════════════════════╪════════════════════╡\n",
       "│ -29163502.002749864 ┆ 27242054143.997234 │\n",
       "│ -24193162.412826132 ┆ 30787995049.612164 │\n",
       "│ -14976251.136995664 ┆ 30491100697.168053 │\n",
       "│ -6325433.2680203635 ┆ 30223944057.28139  │\n",
       "│ -1582504.7312938115 ┆ 29497019811.422676 │\n",
       "└─────────────────────┴────────────────────┘"
      ]
     },
     "execution_count": 7,
     "metadata": {},
     "output_type": "execute_result"
    }
   ],
   "source": [
    "# Assuming filtered_state_means is your NumPy array from the Kalman Filter\n",
    "kalman_df = pl.DataFrame(\n",
    "    {\n",
    "        \"gas_used\": filtered_state_means[:, 0],\n",
    "        \"base_fee_per_gas\": filtered_state_means[:, 1],\n",
    "    }\n",
    ")\n",
    "\n",
    "kalman_df.head(5)"
   ]
  },
  {
   "cell_type": "code",
   "execution_count": 8,
   "metadata": {},
   "outputs": [],
   "source": [
    "# Extract the block_number column from np_matrix\n",
    "block_numbers = np_matrix[:, 0]\n",
    "\n",
    "# Combine the block_number with the estimated values\n",
    "combined_data = np.column_stack((block_numbers, filtered_state_means))\n",
    "\n",
    "# Convert the combined array into a Polars DataFrame\n",
    "df_combined = pl.DataFrame(\n",
    "    {\n",
    "        \"block_number\": combined_data[:, 0],\n",
    "        \"gas_used_kalman\": combined_data[:, 1],\n",
    "        \"base_fee_per_gas_kalman\": combined_data[:, 2],\n",
    "    }\n",
    ")"
   ]
  },
  {
   "cell_type": "code",
   "execution_count": 9,
   "metadata": {},
   "outputs": [
    {
     "data": {
      "text/html": [
       "<div><style>\n",
       ".dataframe > thead > tr,\n",
       ".dataframe > tbody > tr {\n",
       "  text-align: right;\n",
       "  white-space: pre-wrap;\n",
       "}\n",
       "</style>\n",
       "<small>shape: (5, 3)</small><table border=\"1\" class=\"dataframe\"><thead><tr><th>block_number</th><th>gas_used_kalman</th><th>base_fee_per_gas_kalman</th></tr><tr><td>f64</td><td>f64</td><td>f64</td></tr></thead><tbody><tr><td>19032400</td><td>-29163502.002749864</td><td>27242054143.997234</td></tr><tr><td>19032401</td><td>-24193162.412826132</td><td>30787995049.612164</td></tr><tr><td>19032402</td><td>-14976251.136995664</td><td>30491100697.168053</td></tr><tr><td>19032403</td><td>-6325433.2680203635</td><td>30223944057.28139</td></tr><tr><td>19032404</td><td>-1582504.7312938115</td><td>29497019811.422676</td></tr></tbody></table></div>"
      ],
      "text/plain": [
       "shape: (5, 3)\n",
       "┌──────────────┬─────────────────────┬─────────────────────────┐\n",
       "│ block_number ┆ gas_used_kalman     ┆ base_fee_per_gas_kalman │\n",
       "│ ---          ┆ ---                 ┆ ---                     │\n",
       "│ f64          ┆ f64                 ┆ f64                     │\n",
       "╞══════════════╪═════════════════════╪═════════════════════════╡\n",
       "│ 19032400     ┆ -29163502.002749864 ┆ 27242054143.997234      │\n",
       "│ 19032401     ┆ -24193162.412826132 ┆ 30787995049.612164      │\n",
       "│ 19032402     ┆ -14976251.136995664 ┆ 30491100697.168053      │\n",
       "│ 19032403     ┆ -6325433.2680203635 ┆ 30223944057.28139       │\n",
       "│ 19032404     ┆ -1582504.7312938115 ┆ 29497019811.422676      │\n",
       "└──────────────┴─────────────────────┴─────────────────────────┘"
      ]
     },
     "execution_count": 9,
     "metadata": {},
     "output_type": "execute_result"
    }
   ],
   "source": [
    "df_combined.head(5)"
   ]
  },
  {
   "cell_type": "code",
   "execution_count": 10,
   "metadata": {},
   "outputs": [],
   "source": [
    "kalman_combined = df_combined.with_columns(pl.col(\"block_number\").cast(pl.UInt32)).join(\n",
    "    df, on=\"block_number\"\n",
    ")"
   ]
  },
  {
   "cell_type": "code",
   "execution_count": 19,
   "metadata": {},
   "outputs": [
    {
     "data": {
      "text/plain": [
       "(7600, 10)"
      ]
     },
     "execution_count": 19,
     "metadata": {},
     "output_type": "execute_result"
    }
   ],
   "source": [
    "kalman_combined.shape"
   ]
  },
  {
   "cell_type": "code",
   "execution_count": 20,
   "metadata": {},
   "outputs": [],
   "source": [
    "chart_df = (\n",
    "    kalman_combined.select(\n",
    "        \"block_number\",\n",
    "        \"gas_used_kalman\",\n",
    "        \"base_fee_per_gas_kalman\",\n",
    "        \"gas_used\",\n",
    "        \"base_fee_per_gas\",\n",
    "    )\n",
    "    .with_columns(\n",
    "        (pl.col(\"base_fee_per_gas_kalman\") / 10**9),\n",
    "        (pl.col(\"base_fee_per_gas\") / 10**9),\n",
    "        pl.col(\"gas_used_kalman\"),\n",
    "        pl.col(\"gas_used\"),\n",
    "    )\n",
    "    .with_columns(\n",
    "        (pl.col(\"base_fee_per_gas_kalman\") - pl.col(\"base_fee_per_gas\")).alias(\n",
    "            \"base_fee_per_gas_diff\"\n",
    "        ),\n",
    "    )\n",
    ")"
   ]
  },
  {
   "cell_type": "code",
   "execution_count": 23,
   "metadata": {},
   "outputs": [
    {
     "data": {
      "text/html": [
       "<div><style>\n",
       ".dataframe > thead > tr,\n",
       ".dataframe > tbody > tr {\n",
       "  text-align: right;\n",
       "  white-space: pre-wrap;\n",
       "}\n",
       "</style>\n",
       "<small>shape: (1, 1)</small><table border=\"1\" class=\"dataframe\"><thead><tr><th>base_fee_per_gas_diff</th></tr><tr><td>f64</td></tr></thead><tbody><tr><td>18.18558528827954</td></tr></tbody></table></div>"
      ],
      "text/plain": [
       "shape: (1, 1)\n",
       "┌───────────────────────┐\n",
       "│ base_fee_per_gas_diff │\n",
       "│ ---                   │\n",
       "│ f64                   │\n",
       "╞═══════════════════════╡\n",
       "│ 18.18558528827954     │\n",
       "└───────────────────────┘"
      ]
     },
     "execution_count": 23,
     "metadata": {},
     "output_type": "execute_result"
    }
   ],
   "source": [
    "chart_df.select(\"base_fee_per_gas_diff\").sum()"
   ]
  },
  {
   "cell_type": "code",
   "execution_count": 33,
   "metadata": {},
   "outputs": [
    {
     "data": {
      "text/html": [
       "<div><style>\n",
       ".dataframe > thead > tr,\n",
       ".dataframe > tbody > tr {\n",
       "  text-align: right;\n",
       "  white-space: pre-wrap;\n",
       "}\n",
       "</style>\n",
       "<small>shape: (1, 1)</small><table border=\"1\" class=\"dataframe\"><thead><tr><th>base_fee_per_gas_diff</th></tr><tr><td>f64</td></tr></thead><tbody><tr><td>1304.7983556708189</td></tr></tbody></table></div>"
      ],
      "text/plain": [
       "shape: (1, 1)\n",
       "┌───────────────────────┐\n",
       "│ base_fee_per_gas_diff │\n",
       "│ ---                   │\n",
       "│ f64                   │\n",
       "╞═══════════════════════╡\n",
       "│ 1304.7983556708189    │\n",
       "└───────────────────────┘"
      ]
     },
     "execution_count": 33,
     "metadata": {},
     "output_type": "execute_result"
    }
   ],
   "source": [
    "chart_df.select(\"base_fee_per_gas_diff\").filter(\n",
    "    pl.col(\"base_fee_per_gas_diff\") > 0\n",
    ").sum()"
   ]
  },
  {
   "cell_type": "code",
   "execution_count": 35,
   "metadata": {},
   "outputs": [
    {
     "data": {
      "text/html": [
       "<div><style>\n",
       ".dataframe > thead > tr,\n",
       ".dataframe > tbody > tr {\n",
       "  text-align: right;\n",
       "  white-space: pre-wrap;\n",
       "}\n",
       "</style>\n",
       "<small>shape: (1, 1)</small><table border=\"1\" class=\"dataframe\"><thead><tr><th>base_fee_per_gas_diff</th></tr><tr><td>f64</td></tr></thead><tbody><tr><td>-1286.6127703825393</td></tr></tbody></table></div>"
      ],
      "text/plain": [
       "shape: (1, 1)\n",
       "┌───────────────────────┐\n",
       "│ base_fee_per_gas_diff │\n",
       "│ ---                   │\n",
       "│ f64                   │\n",
       "╞═══════════════════════╡\n",
       "│ -1286.6127703825393   │\n",
       "└───────────────────────┘"
      ]
     },
     "execution_count": 35,
     "metadata": {},
     "output_type": "execute_result"
    }
   ],
   "source": [
    "chart_df.select(\"base_fee_per_gas_diff\").filter(\n",
    "    pl.col(\"base_fee_per_gas_diff\") < 0\n",
    ").sum()"
   ]
  },
  {
   "cell_type": "code",
   "execution_count": null,
   "metadata": {},
   "outputs": [],
   "source": []
  },
  {
   "cell_type": "code",
   "execution_count": 32,
   "metadata": {},
   "outputs": [
    {
     "data": {
      "text/plain": [
       "Text(0, 0.5, 'Frequency')"
      ]
     },
     "execution_count": 32,
     "metadata": {},
     "output_type": "execute_result"
    },
    {
     "data": {
      "image/png": "[encoded data removed]",
      "text/plain": [
       "<Figure size 640x480 with 1 Axes>"
      ]
     },
     "metadata": {},
     "output_type": "display_data"
    }
   ],
   "source": [
    "# Generate the histogram\n",
    "ax = (\n",
    "    chart_df.select(\"base_fee_per_gas_diff\")\n",
    "    .to_pandas()\n",
    "    .plot.hist(bins=10, title=\"Kalman Filter Gwei Estimator Difference Histogram\")\n",
    ")\n",
    "\n",
    "# Set the labels and title separately\n",
    "ax.set_xlabel(\"Base Fee Per Gas Difference\")\n",
    "ax.set_ylabel(\"Frequency\")"
   ]
  },
  {
   "cell_type": "code",
   "execution_count": null,
   "metadata": {},
   "outputs": [],
   "source": []
  },
  {
   "cell_type": "code",
   "execution_count": null,
   "metadata": {},
   "outputs": [],
   "source": []
  },
  {
   "cell_type": "code",
   "execution_count": 12,
   "metadata": {},
   "outputs": [],
   "source": [
    "def get_block_volatility(df: pl.LazyFrame, n: int = 1) -> pl.DataFrame:\n",
    "    return (\n",
    "        df.collect(streaming=True)\n",
    "        .sort(by=\"block_number\")\n",
    "        .with_columns(\n",
    "            (pl.col(\"base_fee_per_gas\") / 10**9).alias(\"base_fee_per_gas_gwei\"),\n",
    "        )\n",
    "        .with_columns(\n",
    "            pl.col(\"base_fee_per_gas_gwei\")\n",
    "            .diff(n=n)\n",
    "            .alias(\"base_fee_per_gas_gwei_diff\"),\n",
    "            pl.col(\"gas_used\").diff(n=n).alias(\"gas_used_diff\"),\n",
    "        )\n",
    "    )"
   ]
  },
  {
   "cell_type": "code",
   "execution_count": 13,
   "metadata": {},
   "outputs": [],
   "source": [
    "df = pl.scan_parquet(\"../data/raw_eth/blocks/*.parquet\")"
   ]
  },
  {
   "cell_type": "code",
   "execution_count": 14,
   "metadata": {},
   "outputs": [],
   "source": [
    "minute_vol = get_block_volatility(df, n=300)  # 300 = hourly"
   ]
  },
  {
   "cell_type": "code",
   "execution_count": null,
   "metadata": {},
   "outputs": [],
   "source": []
  },
  {
   "cell_type": "code",
   "execution_count": 15,
   "metadata": {},
   "outputs": [],
   "source": [
    "# Sample data\n",
    "data = minute_vol.select(\"base_fee_per_gas_gwei_diff\").fill_null(0).to_numpy()"
   ]
  },
  {
   "cell_type": "code",
   "execution_count": 16,
   "metadata": {},
   "outputs": [
    {
     "ename": "NameError",
     "evalue": "name 'stats' is not defined",
     "output_type": "error",
     "traceback": [
      "\u001b[0;31m---------------------------------------------------------------------------\u001b[0m",
      "\u001b[0;31mNameError\u001b[0m                                 Traceback (most recent call last)",
      "Cell \u001b[0;32mIn[16], line 5\u001b[0m\n\u001b[1;32m      3\u001b[0m M1 \u001b[38;5;241m=\u001b[39m np\u001b[38;5;241m.\u001b[39mmean(data)\n\u001b[1;32m      4\u001b[0m M2 \u001b[38;5;241m=\u001b[39m np\u001b[38;5;241m.\u001b[39mvar(data)\n\u001b[0;32m----> 5\u001b[0m M3 \u001b[38;5;241m=\u001b[39m \u001b[43mstats\u001b[49m\u001b[38;5;241m.\u001b[39mskew(data)\n\u001b[1;32m      6\u001b[0m M4 \u001b[38;5;241m=\u001b[39m stats\u001b[38;5;241m.\u001b[39mkurtosis(data)\n",
      "\u001b[0;31mNameError\u001b[0m: name 'stats' is not defined"
     ]
    }
   ],
   "source": [
    "# Confirm Consistency\n",
    "\n",
    "M1 = np.mean(data)\n",
    "M2 = np.var(data)\n",
    "M3 = stats.skew(data)\n",
    "M4 = stats.kurtosis(data)"
   ]
  },
  {
   "cell_type": "code",
   "execution_count": null,
   "metadata": {},
   "outputs": [
    {
     "name": "stdout",
     "output_type": "stream",
     "text": [
      "Mean: -0.009644207664538018\n",
      "Variance: 4969.463510827945\n",
      "Skewness: [10.10404207]\n",
      "Kurtosis: [4733.74321625]\n"
     ]
    }
   ],
   "source": [
    "print(f\"Mean: {M1}\")\n",
    "print(f\"Variance: {M2}\")\n",
    "print(f\"Skewness: {M3}\")\n",
    "print(f\"Kurtosis: {M4}\")"
   ]
  },
  {
   "cell_type": "code",
   "execution_count": null,
   "metadata": {},
   "outputs": [],
   "source": [
    "STOP"
   ]
  },
  {
   "cell_type": "code",
   "execution_count": null,
   "metadata": {},
   "outputs": [
    {
     "name": "stdout",
     "output_type": "stream",
     "text": [
      "Mean: 43.26456985348126\n",
      "Variance: 6558.780576862949\n",
      "Skewness: [48.93205068]\n",
      "Kurtosis: [3603.6623823]\n"
     ]
    }
   ],
   "source": [
    "print(f\"Mean: {M1}\")\n",
    "print(f\"Variance: {M2}\")\n",
    "print(f\"Skewness: {M3}\")\n",
    "print(f\"Kurtosis: {M4}\")"
   ]
  },
  {
   "cell_type": "code",
   "execution_count": null,
   "metadata": {},
   "outputs": [
    {
     "name": "stdout",
     "output_type": "stream",
     "text": [
      "Kurtosis of the normalized data: [3603.6623823]\n"
     ]
    }
   ],
   "source": [
    "# Sample data\n",
    "data = minute_vol.select(\"base_fee_per_gas_gwei\").to_pandas()\n",
    "\n",
    "# Normalize the data\n",
    "normalized_data = stats.zscore(data)\n",
    "\n",
    "# Calculate kurtosis\n",
    "kurtosis_value = stats.kurtosis(normalized_data)\n",
    "\n",
    "print(\"Kurtosis of the normalized data:\", kurtosis_value)"
   ]
  },
  {
   "cell_type": "code",
   "execution_count": null,
   "metadata": {},
   "outputs": [
    {
     "data": {
      "text/plain": [
       "base_fee_per_gas_gwei    3603.665366\n",
       "dtype: float64"
      ]
     },
     "execution_count": 5,
     "metadata": {},
     "output_type": "execute_result"
    }
   ],
   "source": [
    "minute_vol.select(\"base_fee_per_gas_gwei\").to_pandas().kurtosis()"
   ]
  },
  {
   "cell_type": "code",
   "execution_count": null,
   "metadata": {},
   "outputs": [
    {
     "data": {
      "text/plain": [
       "base_fee_per_gas_gwei    48.932063\n",
       "dtype: float64"
      ]
     },
     "execution_count": 6,
     "metadata": {},
     "output_type": "execute_result"
    }
   ],
   "source": [
    "minute_vol.select(\"base_fee_per_gas_gwei\").to_pandas().skew()"
   ]
  },
  {
   "cell_type": "code",
   "execution_count": null,
   "metadata": {},
   "outputs": [
    {
     "data": {},
     "metadata": {},
     "output_type": "display_data"
    },
    {
     "data": {
      "application/vnd.holoviews_exec.v0+json": "",
      "text/html": [
       "<div id='166f3c93-5c19-459c-8262-8e5602a52c4f'>\n",
       "  <div id=\"c4b12180-b136-4206-be99-e4e1fb239b9f\" data-root-id=\"166f3c93-5c19-459c-8262-8e5602a52c4f\" style=\"display: contents;\"></div>\n",
       "</div>\n",
       "<script type=\"application/javascript\">(function(root) {\n",
       "  var docs_json = {\"39dfce9d-69b6-4723-8d14-27e0e78559a1\":{\"version\":\"3.2.0\",\"title\":\"Bokeh Application\",\"roots\":[{\"type\":\"object\",\"name\":\"Row\",\"id\":\"166f3c93-5c19-459c-8262-8e5602a52c4f\",\"attributes\":{\"name\":\"Row00945\",\"tags\":[\"embedded\"],\"stylesheets\":[\"\\n:host(.pn-loading.pn-arc):before, .pn-loading.pn-arc:before {\\n  background-image: url(\\\"data:image/svg+xml;base64,PHN2ZyB4bWxucz0iaHR0cDovL3d3dy53My5vcmcvMjAwMC9zdmciIHN0eWxlPSJtYXJnaW46IGF1dG87IGJhY2tncm91bmQ6IG5vbmU7IGRpc3BsYXk6IGJsb2NrOyBzaGFwZS1yZW5kZXJpbmc6IGF1dG87IiB2aWV3Qm94PSIwIDAgMTAwIDEwMCIgcHJlc2VydmVBc3BlY3RSYXRpbz0ieE1pZFlNaWQiPiAgPGNpcmNsZSBjeD0iNTAiIGN5PSI1MCIgZmlsbD0ibm9uZSIgc3Ryb2tlPSIjYzNjM2MzIiBzdHJva2Utd2lkdGg9IjEwIiByPSIzNSIgc3Ryb2tlLWRhc2hhcnJheT0iMTY0LjkzMzYxNDMxMzQ2NDE1IDU2Ljk3Nzg3MTQzNzgyMTM4Ij4gICAgPGFuaW1hdGVUcmFuc2Zvcm0gYXR0cmlidXRlTmFtZT0idHJhbnNmb3JtIiB0eXBlPSJyb3RhdGUiIHJlcGVhdENvdW50PSJpbmRlZmluaXRlIiBkdXI9IjFzIiB2YWx1ZXM9IjAgNTAgNTA7MzYwIDUwIDUwIiBrZXlUaW1lcz0iMDsxIj48L2FuaW1hdGVUcmFuc2Zvcm0+ICA8L2NpcmNsZT48L3N2Zz4=\\\");\\n  background-size: auto calc(min(50%, 400px));\\n}\",{\"type\":\"object\",\"name\":\"ImportedStyleSheet\",\"id\":\"48b38c5b-3a33-4b58-b935-50f9ceea2aea\",\"attributes\":{\"url\":\"https://cdn.holoviz.org/panel/1.2.0/dist/css/loading.css\"}},{\"type\":\"object\",\"name\":\"ImportedStyleSheet\",\"id\":\"366fe1b0-da61-491c-82f7-3a1d86e3c8fd\",\"attributes\":{\"url\":\"https://cdn.holoviz.org/panel/1.2.0/dist/css/listpanel.css\"}},{\"type\":\"object\",\"name\":\"ImportedStyleSheet\",\"id\":\"095883bf-7ce9-442c-ae18-1c69c997a34f\",\"attributes\":{\"url\":\"https://cdn.holoviz.org/panel/1.2.0/dist/bundled/theme/default.css\"}},{\"type\":\"object\",\"name\":\"ImportedStyleSheet\",\"id\":\"571c6014-73d8-4d2c-afb6-6692eb567af5\",\"attributes\":{\"url\":\"https://cdn.holoviz.org/panel/1.2.0/dist/bundled/theme/native.css\"}}],\"min_width\":700,\"margin\":0,\"sizing_mode\":\"stretch_width\",\"align\":\"start\",\"children\":[{\"type\":\"object\",\"name\":\"Spacer\",\"id\":\"34dfc598-5a77-42c6-ad49-b541e382721c\",\"attributes\":{\"name\":\"HSpacer00956\",\"stylesheets\":[\"\\n:host(.pn-loading.pn-arc):before, .pn-loading.pn-arc:before {\\n  background-image: url(\\\"data:image/svg+xml;base64,PHN2ZyB4bWxucz0iaHR0cDovL3d3dy53My5vcmcvMjAwMC9zdmciIHN0eWxlPSJtYXJnaW46IGF1dG87IGJhY2tncm91bmQ6IG5vbmU7IGRpc3BsYXk6IGJsb2NrOyBzaGFwZS1yZW5kZXJpbmc6IGF1dG87IiB2aWV3Qm94PSIwIDAgMTAwIDEwMCIgcHJlc2VydmVBc3BlY3RSYXRpbz0ieE1pZFlNaWQiPiAgPGNpcmNsZSBjeD0iNTAiIGN5PSI1MCIgZmlsbD0ibm9uZSIgc3Ryb2tlPSIjYzNjM2MzIiBzdHJva2Utd2lkdGg9IjEwIiByPSIzNSIgc3Ryb2tlLWRhc2hhcnJheT0iMTY0LjkzMzYxNDMxMzQ2NDE1IDU2Ljk3Nzg3MTQzNzgyMTM4Ij4gICAgPGFuaW1hdGVUcmFuc2Zvcm0gYXR0cmlidXRlTmFtZT0idHJhbnNmb3JtIiB0eXBlPSJyb3RhdGUiIHJlcGVhdENvdW50PSJpbmRlZmluaXRlIiBkdXI9IjFzIiB2YWx1ZXM9IjAgNTAgNTA7MzYwIDUwIDUwIiBrZXlUaW1lcz0iMDsxIj48L2FuaW1hdGVUcmFuc2Zvcm0+ICA8L2NpcmNsZT48L3N2Zz4=\\\");\\n  background-size: auto calc(min(50%, 400px));\\n}\",{\"id\":\"48b38c5b-3a33-4b58-b935-50f9ceea2aea\"},{\"id\":\"095883bf-7ce9-442c-ae18-1c69c997a34f\"},{\"id\":\"571c6014-73d8-4d2c-afb6-6692eb567af5\"}],\"margin\":0,\"sizing_mode\":\"stretch_width\",\"align\":\"start\"}},{\"type\":\"object\",\"name\":\"Figure\",\"id\":\"d71387d3-df49-404b-9573-b9bb790b0630\",\"attributes\":{\"width\":700,\"height\":300,\"margin\":[5,10],\"sizing_mode\":\"fixed\",\"align\":\"start\",\"x_range\":{\"type\":\"object\",\"name\":\"Range1d\",\"id\":\"9804e83e-ca25-438f-b4b8-1f95ab6d79b9\",\"attributes\":{\"tags\":[[[\"base_fee_per_gas_gwei_diff\",\"base_fee_per_gas_gwei_diff\",null]],[]],\"start\":-10,\"end\":10,\"reset_start\":-10,\"reset_end\":10}},\"y_range\":{\"type\":\"object\",\"name\":\"Range1d\",\"id\":\"f94e2540-af72-4569-897d-1de61e71b111\",\"attributes\":{\"tags\":[[[\"base_fee_per_gas_gwei_diff_count\",\"Count\",null]],{\"type\":\"map\",\"entries\":[[\"invert_yaxis\",false],[\"autorange\",false]]}],\"end\":3271120.6,\"reset_start\":0.0,\"reset_end\":3271120.6}},\"x_scale\":{\"type\":\"object\",\"name\":\"LinearScale\",\"id\":\"6fc78da6-8ad3-4c72-880b-9775845bac5b\"},\"y_scale\":{\"type\":\"object\",\"name\":\"LinearScale\",\"id\":\"8a029d36-ef14-40eb-9810-27cd10c2e0cf\"},\"title\":{\"type\":\"object\",\"name\":\"Title\",\"id\":\"3a447fb5-b65d-4fea-83ba-21f3277c00bc\",\"attributes\":{\"text_color\":\"black\",\"text_font_size\":\"12pt\"}},\"renderers\":[{\"type\":\"object\",\"name\":\"GlyphRenderer\",\"id\":\"c2bf22a0-6c7a-4eee-a587-e7545a920bf5\",\"attributes\":{\"data_source\":{\"type\":\"object\",\"name\":\"ColumnDataSource\",\"id\":\"822af634-39ec-4dc9-8c77-59a099cfc4ea\",\"attributes\":{\"selected\":{\"type\":\"object\",\"name\":\"Selection\",\"id\":\"c0582adb-3051-4664-8bc8-7d556744f95c\",\"attributes\":{\"indices\":[],\"line_indices\":[]}},\"selection_policy\":{\"type\":\"object\",\"name\":\"UnionRenderers\",\"id\":\"99138430-cdea-443d-835b-01cceb113eec\"},\"data\":{\"type\":\"map\",\"entries\":[[\"top\",{\"type\":\"ndarray\",\"array\":{\"type\":\"bytes\",\"data\":\"AQAAAAAAAAAAAAAAAAAAAAAAAAAAAAAAAAAAAAAAAAAAAAAAAAAAAAAAAAAAAAAAAAAAAAAAAAABAAAAAAAAAAAAAAAAAAAAAAAAAAAAAAAAAAAAAAAAAAAAAAAAAAAAAQAAAAAAAAAAAAAAAQAAAAAAAAAAAAAAAQAAAAAAAAAAAAAAAQAAAAAAAAAAAAAAAAAAAAAAAAAAAAAAAAAAAAAAAAAAAAAAAQAAAAEAAAABAAAAAAAAAAAAAAAAAAAAAQAAAAAAAAAAAAAAAQAAAAEAAAAAAAAAAQAAAAAAAAAAAAAAAAAAAAAAAAAAAAAAAAAAAAEAAAAAAAAAAQAAAAAAAAAAAAAAAAAAAAAAAAAAAAAAAAAAAAAAAAABAAAAAAAAAAEAAAAAAAAAAAAAAAAAAAAAAAAAAAAAAAEAAAACAAAAAQAAAAEAAAAAAAAAAQAAAAEAAAAAAAAAAAAAAAAAAAAAAAAAAQAAAAAAAAAAAAAAAAAAAAAAAAAAAAAAAgAAAAAAAAAAAAAAAAAAAAEAAAABAAAAAQAAAAAAAAAAAAAAAAAAAAAAAAABAAAAAAAAAAAAAAAAAAAAAAAAAAAAAAADAAAAAQAAAAEAAAABAAAAAQAAAAIAAAAAAAAAAAAAAAEAAAABAAAAAAAAAAEAAAABAAAAAAAAAAEAAAAAAAAAAQAAAAEAAAAAAAAAAgAAAAEAAAAAAAAAAQAAAAEAAAACAAAAAAAAAAAAAAABAAAAAgAAAAQAAAADAAAAAAAAAAEAAAABAAAAAgAAAAAAAAADAAAAAAAAAAEAAAABAAAAAQAAAAEAAAAAAAAAAgAAAAMAAAAAAAAAAgAAAAAAAAABAAAAAQAAAAEAAAAAAAAAAAAAAAEAAAADAAAAAgAAAAEAAAABAAAAAQAAAAEAAAAAAAAAAgAAAAAAAAAAAAAAAgAAAAIAAAAAAAAAAAAAAAEAAAACAAAAAgAAAAIAAAABAAAAAAAAAAEAAAACAAAAAQAAAAIAAAAAAAAAAgAAAAAAAAACAAAAAgAAAAEAAAABAAAAAQAAAAAAAAABAAAAAAAAAAEAAAABAAAAAQAAAAEAAAADAAAAAgAAAAEAAAABAAAAAQAAAAEAAAADAAAAAQAAAAMAAAABAAAAAQAAAAEAAAACAAAAAAAAAAEAAAABAAAAAAAAAAAAAAAAAAAAAgAAAAIAAAAAAAAAAQAAAAMAAAABAAAAAgAAAAAAAAABAAAAAQAAAAAAAAABAAAAAQAAAAAAAAACAAAAAgAAAAAAAAABAAAAAgAAAAEAAAABAAAAAQAAAAEAAAABAAAAAAAAAAEAAAACAAAAAgAAAAEAAAAAAAAAAAAAAAEAAAACAAAAAAAAAAIAAAAAAAAAAAAAAAAAAAACAAAAAAAAAAAAAAABAAAAAwAAAAEAAAAGAAAAAgAAAAIAAAADAAAAAQAAAAEAAAAAAAAAAQAAAAEAAAAAAAAAAgAAAAEAAAAAAAAAAQAAAAAAAAABAAAAAQAAAAEAAAAAAAAAAwAAAAEAAAABAAAAAAAAAAEAAAAAAAAAAAAAAAEAAAABAAAAAQAAAAAAAAAAAAAAAAAAAAIAAAAAAAAAAAAAAAEAAAAEAAAAAgAAAAEAAAABAAAAAgAAAAAAAAACAAAAAgAAAAIAAAABAAAAAQAAAAIAAAAAAAAAAgAAAAMAAAACAAAAAAAAAAEAAAABAAAAAgAAAAEAAAADAAAAAQAAAAEAAAABAAAABAAAAAEAAAABAAAAAQAAAAIAAAACAAAAAgAAAAEAAAACAAAAAAAAAAIAAAABAAAAAgAAAAQAAAABAAAAAAAAAAQAAAAAAAAAAAAAAAEAAAAAAAAAAQAAAAEAAAACAAAAAQAAAAMAAAACAAAAAwAAAAMAAAABAAAAAAAAAAEAAAACAAAAAgAAAAAAAAABAAAAAQAAAAMAAAACAAAAAAAAAAIAAAAAAAAAAAAAAAAAAAABAAAAAAAAAAEAAAABAAAAAwAAAAEAAAABAAAAAQAAAAMAAAADAAAAAwAAAAQAAAABAAAAAgAAAAEAAAACAAAAAQAAAAIAAAACAAAAAwAAAAMAAAACAAAABQAAAAMAAAABAAAAAwAAAAIAAAAAAAAAAwAAAAMAAAACAAAABQAAAAEAAAAFAAAABAAAAAMAAAAEAAAAAgAAAAYAAAADAAAAAgAAAAUAAAADAAAAAQAAAAMAAAACAAAABAAAAAEAAAAFAAAABAAAAAkAAAACAAAAAwAAAAUAAAAHAAAABAAAAAYAAAAFAAAAAwAAAAQAAAACAAAABwAAAAMAAAAFAAAACwAAAAwAAAAHAAAABwAAAAwAAAAJAAAABAAAAAcAAAAKAAAACwAAAAkAAAAJAAAACgAAAAoAAAAEAAAADgAAAAgAAAAPAAAACgAAAAgAAAAVAAAAFQAAAAsAAAAUAAAAEQAAAB4AAAAeAAAAGgAAAA8AAAAhAAAAIgAAABkAAAAnAAAAHAAAADYAAAArAAAAMQAAADwAAAA6AAAATAAAAFIAAABUAAAAbwAAAHkAAACHAAAAlwAAAKIAAADIAAAA+QAAADUBAABHAQAAiAEAAPcBAABgAgAACAMAAL8DAAAyBQAAiwcAAFULAAC2EAAAvRgAAGMmAAA5OgAARlkAAMGFAABrxAAAyxoBAPyZAQCzcAIAISsEACeADAAyYC0AV9kKAGUIBAAEVQIADosBAFMiAQCp1AAAE5cAAD5oAADvRgAA1C4AAKQeAAAiFAAA8wwAAI8IAADuBQAAoQQAAIgDAADBAgAALgIAAL4BAACXAQAAXAEAAP0AAADsAAAAzgAAALYAAACsAAAAeAAAAHwAAAB3AAAAYQAAAEwAAABdAAAAPwAAADgAAAA7AAAANQAAAC4AAAAmAAAAIAAAACQAAAAgAAAAHQAAAB4AAAAZAAAAFgAAABMAAAATAAAADAAAABEAAAAOAAAADQAAAAwAAAATAAAACgAAABIAAAALAAAACgAAAA0AAAAJAAAACwAAAAgAAAAJAAAABQAAAAgAAAAJAAAAAwAAAAYAAAAIAAAABgAAAAYAAAAGAAAABwAAAAQAAAAEAAAABQAAAAgAAAAIAAAAAwAAAAQAAAAEAAAABAAAAAUAAAADAAAABAAAAAYAAAADAAAAAwAAAAMAAAADAAAAAQAAAAcAAAAEAAAABQAAAAMAAAAHAAAACgAAAAUAAAABAAAAAgAAAAMAAAAFAAAAAwAAAAUAAAAHAAAAAwAAAAMAAAADAAAAAgAAAAIAAAAAAAAAAQAAAAIAAAACAAAAAQAAAAIAAAABAAAAAgAAAAIAAAABAAAAAQAAAAAAAAAGAAAAAgAAAAAAAAACAAAAAAAAAAQAAAACAAAAAgAAAAAAAAACAAAAAgAAAAMAAAAAAAAAAgAAAAEAAAACAAAAAQAAAAAAAAAAAAAAAgAAAAEAAAAAAAAAAQAAAAEAAAAAAAAAAAAAAAIAAAABAAAAAQAAAAAAAAAAAAAAAAAAAAEAAAABAAAAAQAAAAAAAAAAAAAAAQAAAAEAAAAAAAAAAgAAAAAAAAABAAAAAAAAAAEAAAABAAAAAwAAAAIAAAABAAAAAAAAAAIAAAABAAAAAAAAAAIAAAAAAAAAAAAAAAEAAAAAAAAAAAAAAAEAAAAAAAAAAgAAAAAAAAACAAAAAQAAAAAAAAABAAAAAgAAAAEAAAAAAAAAAQAAAAIAAAABAAAAAQAAAAEAAAABAAAAAQAAAAIAAAAAAAAAAQAAAAIAAAAAAAAAAQAAAAIAAAABAAAAAQAAAAAAAAABAAAAAQAAAAAAAAABAAAAAAAAAAMAAAAAAAAAAgAAAAAAAAAAAAAAAAAAAAAAAAABAAAAAQAAAAAAAAABAAAAAAAAAAAAAAAAAAAAAAAAAAAAAAAAAAAAAAAAAAAAAAAAAAAAAQAAAAEAAAABAAAAAgAAAAEAAAAAAAAAAAAAAAEAAAAAAAAAAQAAAAAAAAAAAAAAAAAAAAAAAAAAAAAAAAAAAAAAAAACAAAAAAAAAAAAAAAAAAAAAAAAAAIAAAAAAAAAAAAAAAAAAAAAAAAAAQAAAAAAAAAAAAAAAAAAAAAAAAAAAAAAAAAAAAIAAAAAAAAAAQAAAAIAAAAAAAAAAAAAAAAAAAABAAAAAQAAAAEAAAAAAAAAAAAAAAAAAAAAAAAAAgAAAAEAAAAAAAAAAQAAAAAAAAAAAAAAAQAAAAAAAAABAAAAAQAAAAAAAAABAAAAAAAAAAAAAAAAAAAAAAAAAAAAAAAAAAAAAQAAAAIAAAAAAAAAAAAAAAAAAAACAAAAAwAAAAEAAAAAAAAAAQAAAAEAAAACAAAAAAAAAAEAAAACAAAAAQAAAAEAAAACAAAAAAAAAAAAAAAEAAAAAgAAAAEAAAADAAAABgAAAAMAAAACAAAAAgAAAAQAAAACAAAABQAAAAMAAAABAAAAAQAAAAMAAAACAAAAAgAAAAQAAAACAAAAAgAAAAUAAAADAAAAAgAAAAIAAAACAAAAAwAAAAAAAAADAAAAAAAAAAEAAAABAAAAAAAAAAMAAAABAAAAAAAAAAEAAAABAAAAAAAAAAMAAAACAAAAAAAAAAIAAAAJAAAAAwAAAAEAAAABAAAAAQAAAAAAAAACAAAAAAAAAAEAAAAAAAAAAAAAAAEAAAAEAAAAAQAAAAIAAAAEAAAAAQAAAAIAAAAEAAAAAQAAAAAAAAACAAAAAgAAAAAAAAAAAAAAAgAAAAQAAAACAAAAAQAAAAEAAAAAAAAAAQAAAAIAAAABAAAAAAAAAAMAAAADAAAAAQAAAAEAAAAAAAAAAQAAAAIAAAAAAAAAAAAAAAEAAAABAAAAAQAAAAAAAAACAAAAAQAAAAEAAAAAAAAAAAAAAAAAAAAAAAAAAAAAAAEAAAAAAAAAAAAAAAAAAAAAAAAAAQAAAAMAAAAAAAAAAAAAAAEAAAACAAAAAAAAAAAAAAAAAAAAAQAAAAAAAAAAAAAAAwAAAAAAAAABAAAAAAAAAAAAAAAAAAAAAAAAAAAAAAAAAAAAAAAAAAEAAAAAAAAAAAAAAAMAAAABAAAAAAAAAAAAAAABAAAAAQAAAAAAAAAAAAAAAAAAAAEAAAAAAAAAAAAAAAAAAAAAAAAAAQAAAAAAAAAAAAAAAAAAAAAAAAAAAAAAAAAAAAAAAAAAAAAAAAAAAAAAAAAAAAAAAAAAAAAAAAAAAAAAAAAAAAAAAAAAAAAAAAAAAAAAAAAAAAAAAAAAAAAAAAAAAAAAAAAAAAAAAAAAAAAAAQAAAA==\"},\"shape\":[1000],\"dtype\":\"int32\",\"order\":\"little\"}],[\"left\",{\"type\":\"ndarray\",\"array\":{\"type\":\"bytes\",\"data\":\"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\"},\"shape\":[1000],\"dtype\":\"float64\",\"order\":\"little\"}],[\"right\",{\"type\":\"ndarray\",\"array\":{\"type\":\"bytes\",\"data\":\"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\"},\"shape\":[1000],\"dtype\":\"float64\",\"order\":\"little\"}],[\"base_fee_per_gas_gwei_diff\",{\"type\":\"ndarray\",\"array\":{\"type\":\"bytes\",\"data\":\"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\"},\"shape\":[1000],\"dtype\":\"float64\",\"order\":\"little\"}],[\"base_fee_per_gas_gwei_diff_count\",{\"type\":\"ndarray\",\"array\":{\"type\":\"bytes\",\"data\":\"AQAAAAAAAAAAAAAAAAAAAAAAAAAAAAAAAAAAAAAAAAAAAAAAAAAAAAAAAAAAAAAAAAAAAAAAAAABAAAAAAAAAAAAAAAAAAAAAAAAAAAAAAAAAAAAAAAAAAAAAAAAAAAAAQAAAAAAAAAAAAAAAQAAAAAAAAAAAAAAAQAAAAAAAAAAAAAAAQAAAAAAAAAAAAAAAAAAAAAAAAAAAAAAAAAAAAAAAAAAAAAAAQAAAAEAAAABAAAAAAAAAAAAAAAAAAAAAQAAAAAAAAAAAAAAAQAAAAEAAAAAAAAAAQAAAAAAAAAAAAAAAAAAAAAAAAAAAAAAAAAAAAEAAAAAAAAAAQAAAAAAAAAAAAAAAAAAAAAAAAAAAAAAAAAAAAAAAAABAAAAAAAAAAEAAAAAAAAAAAAAAAAAAAAAAAAAAAAAAAEAAAACAAAAAQAAAAEAAAAAAAAAAQAAAAEAAAAAAAAAAAAAAAAAAAAAAAAAAQAAAAAAAAAAAAAAAAAAAAAAAAAAAAAAAgAAAAAAAAAAAAAAAAAAAAEAAAABAAAAAQAAAAAAAAAAAAAAAAAAAAAAAAABAAAAAAAAAAAAAAAAAAAAAAAAAAAAAAADAAAAAQAAAAEAAAABAAAAAQAAAAIAAAAAAAAAAAAAAAEAAAABAAAAAAAAAAEAAAABAAAAAAAAAAEAAAAAAAAAAQAAAAEAAAAAAAAAAgAAAAEAAAAAAAAAAQAAAAEAAAACAAAAAAAAAAAAAAABAAAAAgAAAAQAAAADAAAAAAAAAAEAAAABAAAAAgAAAAAAAAADAAAAAAAAAAEAAAABAAAAAQAAAAEAAAAAAAAAAgAAAAMAAAAAAAAAAgAAAAAAAAABAAAAAQAAAAEAAAAAAAAAAAAAAAEAAAADAAAAAgAAAAEAAAABAAAAAQAAAAEAAAAAAAAAAgAAAAAAAAAAAAAAAgAAAAIAAAAAAAAAAAAAAAEAAAACAAAAAgAAAAIAAAABAAAAAAAAAAEAAAACAAAAAQAAAAIAAAAAAAAAAgAAAAAAAAACAAAAAgAAAAEAAAABAAAAAQAAAAAAAAABAAAAAAAAAAEAAAABAAAAAQAAAAEAAAADAAAAAgAAAAEAAAABAAAAAQAAAAEAAAADAAAAAQAAAAMAAAABAAAAAQAAAAEAAAACAAAAAAAAAAEAAAABAAAAAAAAAAAAAAAAAAAAAgAAAAIAAAAAAAAAAQAAAAMAAAABAAAAAgAAAAAAAAABAAAAAQAAAAAAAAABAAAAAQAAAAAAAAACAAAAAgAAAAAAAAABAAAAAgAAAAEAAAABAAAAAQAAAAEAAAABAAAAAAAAAAEAAAACAAAAAgAAAAEAAAAAAAAAAAAAAAEAAAACAAAAAAAAAAIAAAAAAAAAAAAAAAAAAAACAAAAAAAAAAAAAAABAAAAAwAAAAEAAAAGAAAAAgAAAAIAAAADAAAAAQAAAAEAAAAAAAAAAQAAAAEAAAAAAAAAAgAAAAEAAAAAAAAAAQAAAAAAAAABAAAAAQAAAAEAAAAAAAAAAwAAAAEAAAABAAAAAAAAAAEAAAAAAAAAAAAAAAEAAAABAAAAAQAAAAAAAAAAAAAAAAAAAAIAAAAAAAAAAAAAAAEAAAAEAAAAAgAAAAEAAAABAAAAAgAAAAAAAAACAAAAAgAAAAIAAAABAAAAAQAAAAIAAAAAAAAAAgAAAAMAAAACAAAAAAAAAAEAAAABAAAAAgAAAAEAAAADAAAAAQAAAAEAAAABAAAABAAAAAEAAAABAAAAAQAAAAIAAAACAAAAAgAAAAEAAAACAAAAAAAAAAIAAAABAAAAAgAAAAQAAAABAAAAAAAAAAQAAAAAAAAAAAAAAAEAAAAAAAAAAQAAAAEAAAACAAAAAQAAAAMAAAACAAAAAwAAAAMAAAABAAAAAAAAAAEAAAACAAAAAgAAAAAAAAABAAAAAQAAAAMAAAACAAAAAAAAAAIAAAAAAAAAAAAAAAAAAAABAAAAAAAAAAEAAAABAAAAAwAAAAEAAAABAAAAAQAAAAMAAAADAAAAAwAAAAQAAAABAAAAAgAAAAEAAAACAAAAAQAAAAIAAAACAAAAAwAAAAMAAAACAAAABQAAAAMAAAABAAAAAwAAAAIAAAAAAAAAAwAAAAMAAAACAAAABQAAAAEAAAAFAAAABAAAAAMAAAAEAAAAAgAAAAYAAAADAAAAAgAAAAUAAAADAAAAAQAAAAMAAAACAAAABAAAAAEAAAAFAAAABAAAAAkAAAACAAAAAwAAAAUAAAAHAAAABAAAAAYAAAAFAAAAAwAAAAQAAAACAAAABwAAAAMAAAAFAAAACwAAAAwAAAAHAAAABwAAAAwAAAAJAAAABAAAAAcAAAAKAAAACwAAAAkAAAAJAAAACgAAAAoAAAAEAAAADgAAAAgAAAAPAAAACgAAAAgAAAAVAAAAFQAAAAsAAAAUAAAAEQAAAB4AAAAeAAAAGgAAAA8AAAAhAAAAIgAAABkAAAAnAAAAHAAAADYAAAArAAAAMQAAADwAAAA6AAAATAAAAFIAAABUAAAAbwAAAHkAAACHAAAAlwAAAKIAAADIAAAA+QAAADUBAABHAQAAiAEAAPcBAABgAgAACAMAAL8DAAAyBQAAiwcAAFULAAC2EAAAvRgAAGMmAAA5OgAARlkAAMGFAABrxAAAyxoBAPyZAQCzcAIAISsEACeADAAyYC0AV9kKAGUIBAAEVQIADosBAFMiAQCp1AAAE5cAAD5oAADvRgAA1C4AAKQeAAAiFAAA8wwAAI8IAADuBQAAoQQAAIgDAADBAgAALgIAAL4BAACXAQAAXAEAAP0AAADsAAAAzgAAALYAAACsAAAAeAAAAHwAAAB3AAAAYQAAAEwAAABdAAAAPwAAADgAAAA7AAAANQAAAC4AAAAmAAAAIAAAACQAAAAgAAAAHQAAAB4AAAAZAAAAFgAAABMAAAATAAAADAAAABEAAAAOAAAADQAAAAwAAAATAAAACgAAABIAAAALAAAACgAAAA0AAAAJAAAACwAAAAgAAAAJAAAABQAAAAgAAAAJAAAAAwAAAAYAAAAIAAAABgAAAAYAAAAGAAAABwAAAAQAAAAEAAAABQAAAAgAAAAIAAAAAwAAAAQAAAAEAAAABAAAAAUAAAADAAAABAAAAAYAAAADAAAAAwAAAAMAAAADAAAAAQAAAAcAAAAEAAAABQAAAAMAAAAHAAAACgAAAAUAAAABAAAAAgAAAAMAAAAFAAAAAwAAAAUAAAAHAAAAAwAAAAMAAAADAAAAAgAAAAIAAAAAAAAAAQAAAAIAAAACAAAAAQAAAAIAAAABAAAAAgAAAAIAAAABAAAAAQAAAAAAAAAGAAAAAgAAAAAAAAACAAAAAAAAAAQAAAACAAAAAgAAAAAAAAACAAAAAgAAAAMAAAAAAAAAAgAAAAEAAAACAAAAAQAAAAAAAAAAAAAAAgAAAAEAAAAAAAAAAQAAAAEAAAAAAAAAAAAAAAIAAAABAAAAAQAAAAAAAAAAAAAAAAAAAAEAAAABAAAAAQAAAAAAAAAAAAAAAQAAAAEAAAAAAAAAAgAAAAAAAAABAAAAAAAAAAEAAAABAAAAAwAAAAIAAAABAAAAAAAAAAIAAAABAAAAAAAAAAIAAAAAAAAAAAAAAAEAAAAAAAAAAAAAAAEAAAAAAAAAAgAAAAAAAAACAAAAAQAAAAAAAAABAAAAAgAAAAEAAAAAAAAAAQAAAAIAAAABAAAAAQAAAAEAAAABAAAAAQAAAAIAAAAAAAAAAQAAAAIAAAAAAAAAAQAAAAIAAAABAAAAAQAAAAAAAAABAAAAAQAAAAAAAAABAAAAAAAAAAMAAAAAAAAAAgAAAAAAAAAAAAAAAAAAAAAAAAABAAAAAQAAAAAAAAABAAAAAAAAAAAAAAAAAAAAAAAAAAAAAAAAAAAAAAAAAAAAAAAAAAAAAQAAAAEAAAABAAAAAgAAAAEAAAAAAAAAAAAAAAEAAAAAAAAAAQAAAAAAAAAAAAAAAAAAAAAAAAAAAAAAAAAAAAAAAAACAAAAAAAAAAAAAAAAAAAAAAAAAAIAAAAAAAAAAAAAAAAAAAAAAAAAAQAAAAAAAAAAAAAAAAAAAAAAAAAAAAAAAAAAAAIAAAAAAAAAAQAAAAIAAAAAAAAAAAAAAAAAAAABAAAAAQAAAAEAAAAAAAAAAAAAAAAAAAAAAAAAAgAAAAEAAAAAAAAAAQAAAAAAAAAAAAAAAQAAAAAAAAABAAAAAQAAAAAAAAABAAAAAAAAAAAAAAAAAAAAAAAAAAAAAAAAAAAAAQAAAAIAAAAAAAAAAAAAAAAAAAACAAAAAwAAAAEAAAAAAAAAAQAAAAEAAAACAAAAAAAAAAEAAAACAAAAAQAAAAEAAAACAAAAAAAAAAAAAAAEAAAAAgAAAAEAAAADAAAABgAAAAMAAAACAAAAAgAAAAQAAAACAAAABQAAAAMAAAABAAAAAQAAAAMAAAACAAAAAgAAAAQAAAACAAAAAgAAAAUAAAADAAAAAgAAAAIAAAACAAAAAwAAAAAAAAADAAAAAAAAAAEAAAABAAAAAAAAAAMAAAABAAAAAAAAAAEAAAABAAAAAAAAAAMAAAACAAAAAAAAAAIAAAAJAAAAAwAAAAEAAAABAAAAAQAAAAAAAAACAAAAAAAAAAEAAAAAAAAAAAAAAAEAAAAEAAAAAQAAAAIAAAAEAAAAAQAAAAIAAAAEAAAAAQAAAAAAAAACAAAAAgAAAAAAAAAAAAAAAgAAAAQAAAACAAAAAQAAAAEAAAAAAAAAAQAAAAIAAAABAAAAAAAAAAMAAAADAAAAAQAAAAEAAAAAAAAAAQAAAAIAAAAAAAAAAAAAAAEAAAABAAAAAQAAAAAAAAACAAAAAQAAAAEAAAAAAAAAAAAAAAAAAAAAAAAAAAAAAAEAAAAAAAAAAAAAAAAAAAAAAAAAAQAAAAMAAAAAAAAAAAAAAAEAAAACAAAAAAAAAAAAAAAAAAAAAQAAAAAAAAAAAAAAAwAAAAAAAAABAAAAAAAAAAAAAAAAAAAAAAAAAAAAAAAAAAAAAAAAAAEAAAAAAAAAAAAAAAMAAAABAAAAAAAAAAAAAAABAAAAAQAAAAAAAAAAAAAAAAAAAAEAAAAAAAAAAAAAAAAAAAAAAAAAAQAAAAAAAAAAAAAAAAAAAAAAAAAAAAAAAAAAAAAAAAAAAAAAAAAAAAAAAAAAAAAAAAAAAAAAAAAAAAAAAAAAAAAAAAAAAAAAAAAAAAAAAAAAAAAAAAAAAAAAAAAAAAAAAAAAAAAAAAAAAAAAAQAAAA==\"},\"shape\":[1000],\"dtype\":\"int32\",\"order\":\"little\"}]]}}},\"view\":{\"type\":\"object\",\"name\":\"CDSView\",\"id\":\"e708a115-1d0e-4173-8b06-003e2a67de15\",\"attributes\":{\"filter\":{\"type\":\"object\",\"name\":\"AllIndices\",\"id\":\"2ddeeda9-cbf1-45c2-b0ee-f5e1920f2737\"}}},\"glyph\":{\"type\":\"object\",\"name\":\"Quad\",\"id\":\"21c99e63-3e59-4508-ad1e-b7c5bfefe3d0\",\"attributes\":{\"tags\":[\"apply_ranges\"],\"left\":{\"type\":\"field\",\"field\":\"left\"},\"right\":{\"type\":\"field\",\"field\":\"right\"},\"bottom\":{\"type\":\"value\",\"value\":0},\"top\":{\"type\":\"field\",\"field\":\"top\"},\"fill_color\":{\"type\":\"value\",\"value\":\"#30a2da\"},\"hatch_color\":{\"type\":\"value\",\"value\":\"#30a2da\"}}},\"selection_glyph\":{\"type\":\"object\",\"name\":\"Quad\",\"id\":\"90bc7858-0e4d-4c0e-9976-af62fa7f317e\",\"attributes\":{\"tags\":[\"apply_ranges\"],\"left\":{\"type\":\"field\",\"field\":\"left\"},\"right\":{\"type\":\"field\",\"field\":\"right\"},\"bottom\":{\"type\":\"value\",\"value\":0},\"top\":{\"type\":\"field\",\"field\":\"top\"},\"line_color\":{\"type\":\"value\",\"value\":\"black\"},\"line_alpha\":{\"type\":\"value\",\"value\":1.0},\"line_width\":{\"type\":\"value\",\"value\":1},\"line_join\":{\"type\":\"value\",\"value\":\"bevel\"},\"line_cap\":{\"type\":\"value\",\"value\":\"butt\"},\"line_dash\":{\"type\":\"value\",\"value\":[]},\"line_dash_offset\":{\"type\":\"value\",\"value\":0},\"fill_color\":{\"type\":\"value\",\"value\":\"#30a2da\"},\"fill_alpha\":{\"type\":\"value\",\"value\":1.0},\"hatch_color\":{\"type\":\"value\",\"value\":\"#30a2da\"},\"hatch_alpha\":{\"type\":\"value\",\"value\":1.0},\"hatch_scale\":{\"type\":\"value\",\"value\":12.0},\"hatch_pattern\":{\"type\":\"value\",\"value\":null},\"hatch_weight\":{\"type\":\"value\",\"value\":1.0}}},\"nonselection_glyph\":{\"type\":\"object\",\"name\":\"Quad\",\"id\":\"acbae784-c6ed-4178-b9d3-b09b2e309fec\",\"attributes\":{\"tags\":[\"apply_ranges\"],\"left\":{\"type\":\"field\",\"field\":\"left\"},\"right\":{\"type\":\"field\",\"field\":\"right\"},\"bottom\":{\"type\":\"value\",\"value\":0},\"top\":{\"type\":\"field\",\"field\":\"top\"},\"line_alpha\":{\"type\":\"value\",\"value\":0.1},\"fill_color\":{\"type\":\"value\",\"value\":\"#30a2da\"},\"fill_alpha\":{\"type\":\"value\",\"value\":0.1},\"hatch_color\":{\"type\":\"value\",\"value\":\"#30a2da\"},\"hatch_alpha\":{\"type\":\"value\",\"value\":0.1}}},\"muted_glyph\":{\"type\":\"object\",\"name\":\"Quad\",\"id\":\"2d1de575-992c-42ae-a0dd-280ff75981f4\",\"attributes\":{\"tags\":[\"apply_ranges\"],\"left\":{\"type\":\"field\",\"field\":\"left\"},\"right\":{\"type\":\"field\",\"field\":\"right\"},\"bottom\":{\"type\":\"value\",\"value\":0},\"top\":{\"type\":\"field\",\"field\":\"top\"},\"line_alpha\":{\"type\":\"value\",\"value\":0.2},\"fill_color\":{\"type\":\"value\",\"value\":\"#30a2da\"},\"fill_alpha\":{\"type\":\"value\",\"value\":0.2},\"hatch_color\":{\"type\":\"value\",\"value\":\"#30a2da\"},\"hatch_alpha\":{\"type\":\"value\",\"value\":0.2}}}}}],\"toolbar\":{\"type\":\"object\",\"name\":\"Toolbar\",\"id\":\"2d559c0e-cc1c-4be1-b5bf-04b244182669\",\"attributes\":{\"tools\":[{\"type\":\"object\",\"name\":\"WheelZoomTool\",\"id\":\"fb831c17-e4ee-4d56-b900-814825b528c4\",\"attributes\":{\"tags\":[\"hv_created\"],\"zoom_together\":\"none\"}},{\"type\":\"object\",\"name\":\"HoverTool\",\"id\":\"fba7c02f-33bf-4877-9416-6e97fb940d6e\",\"attributes\":{\"tags\":[\"hv_created\"],\"renderers\":[{\"id\":\"c2bf22a0-6c7a-4eee-a587-e7545a920bf5\"}],\"tooltips\":[[\"base_fee_per_gas_gwei_diff\",\"@{base_fee_per_gas_gwei_diff}\"],[\"Count\",\"@{base_fee_per_gas_gwei_diff_count}\"]]}},{\"type\":\"object\",\"name\":\"SaveTool\",\"id\":\"911596a2-cdde-4b18-b80b-3acd27a97406\"},{\"type\":\"object\",\"name\":\"PanTool\",\"id\":\"1f098937-c7de-48f3-860d-0ec24599039d\"},{\"type\":\"object\",\"name\":\"BoxZoomTool\",\"id\":\"cf856ad0-b6df-480c-9c1d-4234f43fdc26\",\"attributes\":{\"overlay\":{\"type\":\"object\",\"name\":\"BoxAnnotation\",\"id\":\"5cb56957-d3b3-4485-b4db-e431670d02ca\",\"attributes\":{\"syncable\":false,\"level\":\"overlay\",\"visible\":false,\"left_units\":\"canvas\",\"right_units\":\"canvas\",\"bottom_units\":\"canvas\",\"top_units\":\"canvas\",\"line_color\":\"black\",\"line_alpha\":1.0,\"line_width\":2,\"line_dash\":[4,4],\"fill_color\":\"lightgrey\",\"fill_alpha\":0.5}}}},{\"type\":\"object\",\"name\":\"ResetTool\",\"id\":\"fe6794a2-a8e8-49f8-b387-0e889194227f\"}],\"active_drag\":{\"id\":\"1f098937-c7de-48f3-860d-0ec24599039d\"},\"active_scroll\":{\"id\":\"fb831c17-e4ee-4d56-b900-814825b528c4\"}}},\"left\":[{\"type\":\"object\",\"name\":\"LinearAxis\",\"id\":\"756d4ff7-5d82-4dc3-8768-b639c5a1afd1\",\"attributes\":{\"ticker\":{\"type\":\"object\",\"name\":\"BasicTicker\",\"id\":\"4f203898-0c71-4996-bf2d-fc3cc71a6d7c\",\"attributes\":{\"mantissas\":[1,2,5]}},\"formatter\":{\"type\":\"object\",\"name\":\"BasicTickFormatter\",\"id\":\"7066133e-3e52-4f9e-811b-8a4b15ad5f94\"},\"axis_label\":\"\",\"major_label_policy\":{\"type\":\"object\",\"name\":\"AllLabels\",\"id\":\"c58db625-4d77-4a54-93c4-0170dc8649d4\"}}}],\"below\":[{\"type\":\"object\",\"name\":\"LinearAxis\",\"id\":\"bc79a3da-0b44-47ee-ba90-553da86c79b4\",\"attributes\":{\"ticker\":{\"type\":\"object\",\"name\":\"BasicTicker\",\"id\":\"e6134bf7-4436-4a4c-b58d-9b33a688c90f\",\"attributes\":{\"mantissas\":[1,2,5]}},\"formatter\":{\"type\":\"object\",\"name\":\"BasicTickFormatter\",\"id\":\"e4e794f4-acc0-4ce4-8a3f-0646507eeb85\"},\"axis_label\":\"base_fee_per_gas_gwei_diff\",\"major_label_policy\":{\"type\":\"object\",\"name\":\"AllLabels\",\"id\":\"05f6af2a-384e-40ff-b131-e63ffca8ac04\"}}}],\"center\":[{\"type\":\"object\",\"name\":\"Grid\",\"id\":\"78b1c858-a17f-45c5-b781-0cfa9fb417c3\",\"attributes\":{\"axis\":{\"id\":\"bc79a3da-0b44-47ee-ba90-553da86c79b4\"},\"grid_line_color\":null}},{\"type\":\"object\",\"name\":\"Grid\",\"id\":\"8f878092-e0cc-4470-ad3f-d85be969f55f\",\"attributes\":{\"dimension\":1,\"axis\":{\"id\":\"756d4ff7-5d82-4dc3-8768-b639c5a1afd1\"},\"grid_line_color\":null}}],\"min_border_top\":10,\"min_border_bottom\":10,\"min_border_left\":10,\"min_border_right\":10,\"output_backend\":\"webgl\"}},{\"type\":\"object\",\"name\":\"Spacer\",\"id\":\"b0c48400-7600-4976-ad60-8b9406b1d689\",\"attributes\":{\"name\":\"HSpacer00959\",\"stylesheets\":[\"\\n:host(.pn-loading.pn-arc):before, .pn-loading.pn-arc:before {\\n  background-image: url(\\\"data:image/svg+xml;base64,PHN2ZyB4bWxucz0iaHR0cDovL3d3dy53My5vcmcvMjAwMC9zdmciIHN0eWxlPSJtYXJnaW46IGF1dG87IGJhY2tncm91bmQ6IG5vbmU7IGRpc3BsYXk6IGJsb2NrOyBzaGFwZS1yZW5kZXJpbmc6IGF1dG87IiB2aWV3Qm94PSIwIDAgMTAwIDEwMCIgcHJlc2VydmVBc3BlY3RSYXRpbz0ieE1pZFlNaWQiPiAgPGNpcmNsZSBjeD0iNTAiIGN5PSI1MCIgZmlsbD0ibm9uZSIgc3Ryb2tlPSIjYzNjM2MzIiBzdHJva2Utd2lkdGg9IjEwIiByPSIzNSIgc3Ryb2tlLWRhc2hhcnJheT0iMTY0LjkzMzYxNDMxMzQ2NDE1IDU2Ljk3Nzg3MTQzNzgyMTM4Ij4gICAgPGFuaW1hdGVUcmFuc2Zvcm0gYXR0cmlidXRlTmFtZT0idHJhbnNmb3JtIiB0eXBlPSJyb3RhdGUiIHJlcGVhdENvdW50PSJpbmRlZmluaXRlIiBkdXI9IjFzIiB2YWx1ZXM9IjAgNTAgNTA7MzYwIDUwIDUwIiBrZXlUaW1lcz0iMDsxIj48L2FuaW1hdGVUcmFuc2Zvcm0+ICA8L2NpcmNsZT48L3N2Zz4=\\\");\\n  background-size: auto calc(min(50%, 400px));\\n}\",{\"id\":\"48b38c5b-3a33-4b58-b935-50f9ceea2aea\"},{\"id\":\"095883bf-7ce9-442c-ae18-1c69c997a34f\"},{\"id\":\"571c6014-73d8-4d2c-afb6-6692eb567af5\"}],\"margin\":0,\"sizing_mode\":\"stretch_width\",\"align\":\"start\"}}]}}],\"defs\":[{\"type\":\"model\",\"name\":\"ReactiveHTML1\"},{\"type\":\"model\",\"name\":\"FlexBox1\",\"properties\":[{\"name\":\"align_content\",\"kind\":\"Any\",\"default\":\"flex-start\"},{\"name\":\"align_items\",\"kind\":\"Any\",\"default\":\"flex-start\"},{\"name\":\"flex_direction\",\"kind\":\"Any\",\"default\":\"row\"},{\"name\":\"flex_wrap\",\"kind\":\"Any\",\"default\":\"wrap\"},{\"name\":\"justify_content\",\"kind\":\"Any\",\"default\":\"flex-start\"}]},{\"type\":\"model\",\"name\":\"FloatPanel1\",\"properties\":[{\"name\":\"config\",\"kind\":\"Any\",\"default\":{\"type\":\"map\"}},{\"name\":\"contained\",\"kind\":\"Any\",\"default\":true},{\"name\":\"position\",\"kind\":\"Any\",\"default\":\"right-top\"},{\"name\":\"offsetx\",\"kind\":\"Any\",\"default\":null},{\"name\":\"offsety\",\"kind\":\"Any\",\"default\":null},{\"name\":\"theme\",\"kind\":\"Any\",\"default\":\"primary\"},{\"name\":\"status\",\"kind\":\"Any\",\"default\":\"normalized\"}]},{\"type\":\"model\",\"name\":\"GridStack1\",\"properties\":[{\"name\":\"mode\",\"kind\":\"Any\",\"default\":\"warn\"},{\"name\":\"ncols\",\"kind\":\"Any\",\"default\":null},{\"name\":\"nrows\",\"kind\":\"Any\",\"default\":null},{\"name\":\"allow_resize\",\"kind\":\"Any\",\"default\":true},{\"name\":\"allow_drag\",\"kind\":\"Any\",\"default\":true},{\"name\":\"state\",\"kind\":\"Any\",\"default\":[]}]},{\"type\":\"model\",\"name\":\"drag1\",\"properties\":[{\"name\":\"slider_width\",\"kind\":\"Any\",\"default\":5},{\"name\":\"slider_color\",\"kind\":\"Any\",\"default\":\"black\"},{\"name\":\"value\",\"kind\":\"Any\",\"default\":50}]},{\"type\":\"model\",\"name\":\"click1\",\"properties\":[{\"name\":\"terminal_output\",\"kind\":\"Any\",\"default\":\"\"},{\"name\":\"debug_name\",\"kind\":\"Any\",\"default\":\"\"},{\"name\":\"clears\",\"kind\":\"Any\",\"default\":0}]},{\"type\":\"model\",\"name\":\"FastWrapper1\",\"properties\":[{\"name\":\"object\",\"kind\":\"Any\",\"default\":null},{\"name\":\"style\",\"kind\":\"Any\",\"default\":null}]},{\"type\":\"model\",\"name\":\"NotificationAreaBase1\",\"properties\":[{\"name\":\"position\",\"kind\":\"Any\",\"default\":\"bottom-right\"},{\"name\":\"_clear\",\"kind\":\"Any\",\"default\":0}]},{\"type\":\"model\",\"name\":\"NotificationArea1\",\"properties\":[{\"name\":\"notifications\",\"kind\":\"Any\",\"default\":[]},{\"name\":\"position\",\"kind\":\"Any\",\"default\":\"bottom-right\"},{\"name\":\"_clear\",\"kind\":\"Any\",\"default\":0},{\"name\":\"types\",\"kind\":\"Any\",\"default\":[{\"type\":\"map\",\"entries\":[[\"type\",\"warning\"],[\"background\",\"#ffc107\"],[\"icon\",{\"type\":\"map\",\"entries\":[[\"className\",\"fas fa-exclamation-triangle\"],[\"tagName\",\"i\"],[\"color\",\"white\"]]}]]},{\"type\":\"map\",\"entries\":[[\"type\",\"info\"],[\"background\",\"#007bff\"],[\"icon\",{\"type\":\"map\",\"entries\":[[\"className\",\"fas fa-info-circle\"],[\"tagName\",\"i\"],[\"color\",\"white\"]]}]]}]}]},{\"type\":\"model\",\"name\":\"Notification\",\"properties\":[{\"name\":\"background\",\"kind\":\"Any\",\"default\":null},{\"name\":\"duration\",\"kind\":\"Any\",\"default\":3000},{\"name\":\"icon\",\"kind\":\"Any\",\"default\":null},{\"name\":\"message\",\"kind\":\"Any\",\"default\":\"\"},{\"name\":\"notification_type\",\"kind\":\"Any\",\"default\":null},{\"name\":\"_destroyed\",\"kind\":\"Any\",\"default\":false}]},{\"type\":\"model\",\"name\":\"TemplateActions1\",\"properties\":[{\"name\":\"open_modal\",\"kind\":\"Any\",\"default\":0},{\"name\":\"close_modal\",\"kind\":\"Any\",\"default\":0}]},{\"type\":\"model\",\"name\":\"BootstrapTemplateActions1\",\"properties\":[{\"name\":\"open_modal\",\"kind\":\"Any\",\"default\":0},{\"name\":\"close_modal\",\"kind\":\"Any\",\"default\":0}]},{\"type\":\"model\",\"name\":\"MaterialTemplateActions1\",\"properties\":[{\"name\":\"open_modal\",\"kind\":\"Any\",\"default\":0},{\"name\":\"close_modal\",\"kind\":\"Any\",\"default\":0}]}]}};\n",
       "  var render_items = [{\"docid\":\"39dfce9d-69b6-4723-8d14-27e0e78559a1\",\"roots\":{\"166f3c93-5c19-459c-8262-8e5602a52c4f\":\"c4b12180-b136-4206-be99-e4e1fb239b9f\"},\"root_ids\":[\"166f3c93-5c19-459c-8262-8e5602a52c4f\"]}];\n",
       "  var docs = Object.values(docs_json)\n",
       "  if (!docs) {\n",
       "    return\n",
       "  }\n",
       "  const py_version = docs[0].version.replace('rc', '-rc.').replace('.dev', '-dev.')\n",
       "  const is_dev = py_version.indexOf(\"+\") !== -1 || py_version.indexOf(\"-\") !== -1\n",
       "  function embed_document(root) {\n",
       "    var Bokeh = get_bokeh(root)\n",
       "    Bokeh.embed.embed_items_notebook(docs_json, render_items);\n",
       "    for (const render_item of render_items) {\n",
       "      for (const root_id of render_item.root_ids) {\n",
       "\tconst id_el = document.getElementById(root_id)\n",
       "\tif (id_el.children.length && (id_el.children[0].className === 'bk-root')) {\n",
       "\t  const root_el = id_el.children[0]\n",
       "\t  root_el.id = root_el.id + '-rendered'\n",
       "\t}\n",
       "      }\n",
       "    }\n",
       "  }\n",
       "  function get_bokeh(root) {\n",
       "    if (root.Bokeh === undefined) {\n",
       "      return null\n",
       "    } else if (root.Bokeh.version !== py_version && !is_dev) {\n",
       "      if (root.Bokeh.versions === undefined || !root.Bokeh.versions.has(py_version)) {\n",
       "\treturn null\n",
       "      }\n",
       "      return root.Bokeh.versions.get(py_version);\n",
       "    } else if (root.Bokeh.version === py_version) {\n",
       "      return root.Bokeh\n",
       "    }\n",
       "    return null\n",
       "  }\n",
       "  function is_loaded(root) {\n",
       "    var Bokeh = get_bokeh(root)\n",
       "    return (Bokeh != null && Bokeh.Panel !== undefined && ( root['Tabulator'] !== undefined) && ( root['Tabulator'] !== undefined))\n",
       "  }\n",
       "  if (is_loaded(root)) {\n",
       "    embed_document(root);\n",
       "  } else {\n",
       "    var attempts = 0;\n",
       "    var timer = setInterval(function(root) {\n",
       "      if (is_loaded(root)) {\n",
       "        clearInterval(timer);\n",
       "        embed_document(root);\n",
       "      } else if (document.readyState == \"complete\") {\n",
       "        attempts++;\n",
       "        if (attempts > 200) {\n",
       "          clearInterval(timer);\n",
       "\t  var Bokeh = get_bokeh(root)\n",
       "\t  if (Bokeh == null || Bokeh.Panel == null) {\n",
       "            console.warn(\"Panel: ERROR: Unable to run Panel code because Bokeh or Panel library is missing\");\n",
       "\t  } else {\n",
       "\t    console.warn(\"Panel: WARNING: Attempting to render but not all required libraries could be resolved.\")\n",
       "\t    embed_document(root)\n",
       "\t  }\n",
       "        }\n",
       "      }\n",
       "    }, 25, root)\n",
       "  }\n",
       "})(window);</script>"
      ],
      "text/plain": [
       ":Histogram   [base_fee_per_gas_gwei_diff]   (base_fee_per_gas_gwei_diff_count)"
      ]
     },
     "execution_count": 7,
     "metadata": {
      "application/vnd.holoviews_exec.v0+json": {
       "id": "166f3c93-5c19-459c-8262-8e5602a52c4f"
      }
     },
     "output_type": "execute_result"
    }
   ],
   "source": [
    "minute_vol.plot.hist(\"base_fee_per_gas_gwei_diff\", bins=1000, xlim=(-10, 10))"
   ]
  },
  {
   "cell_type": "code",
   "execution_count": null,
   "metadata": {},
   "outputs": [],
   "source": []
  }
 ],
 "metadata": {
  "kernelspec": {
   "display_name": ".venv",
   "language": "python",
   "name": "python3"
  },
  "language_info": {
   "codemirror_mode": {
    "name": "ipython",
    "version": 3
   },
   "file_extension": ".py",
   "mimetype": "text/x-python",
   "name": "python",
   "nbconvert_exporter": "python",
   "pygments_lexer": "ipython3",
   "version": "3.10.12"
  }
 },
 "nbformat": 4,
 "nbformat_minor": 2
}
